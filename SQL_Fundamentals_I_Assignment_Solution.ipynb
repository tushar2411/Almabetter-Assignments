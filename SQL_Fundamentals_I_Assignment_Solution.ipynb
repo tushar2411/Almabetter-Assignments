{
  "nbformat": 4,
  "nbformat_minor": 0,
  "metadata": {
    "colab": {
      "provenance": [],
      "collapsed_sections": [],
      "include_colab_link": true
    },
    "kernelspec": {
      "name": "python3",
      "display_name": "Python 3"
    }
  },
  "cells": [
    {
      "cell_type": "markdown",
      "metadata": {
        "id": "view-in-github",
        "colab_type": "text"
      },
      "source": [
        "<a href=\"https://colab.research.google.com/github/tushar2411/Almabetter-Assignments/blob/main/SQL_Fundamentals_I_Assignment_Solution.ipynb\" target=\"_parent\"><img src=\"https://colab.research.google.com/assets/colab-badge.svg\" alt=\"Open In Colab\"/></a>"
      ]
    },
    {
      "cell_type": "markdown",
      "metadata": {
        "id": "LSx52toYvkE0"
      },
      "source": [
        "# <b> Question 1 : Return the customer IDs of customers who have spent at least $110 with the staff member who has an ID of 2.\n"
      ]
    },
    {
      "cell_type": "code",
      "metadata": {
        "id": "6UKFxD46Ygs8"
      },
      "source": [
        "select customer_id from payment \n",
        "where amount>=110 and staff_id=2"
      ],
      "execution_count": null,
      "outputs": []
    },
    {
      "cell_type": "markdown",
      "metadata": {
        "id": "grhpLeadvkHP"
      },
      "source": [
        "# <b> Question 2 :  How many films begin with the letter J?\n"
      ]
    },
    {
      "cell_type": "code",
      "metadata": {
        "id": "I3TQ53QmZdeG"
      },
      "source": [
        "select count(*) from film\n",
        "where title like 'J%'"
      ],
      "execution_count": null,
      "outputs": []
    },
    {
      "cell_type": "markdown",
      "metadata": {
        "id": "7ADgnW_VvkJg"
      },
      "source": [
        "# <b> Question 3 : What customer has the highest customer ID number whose name starts with an 'E' and has an address ID lower than 500?"
      ]
    },
    {
      "cell_type": "code",
      "metadata": {
        "id": "NGneZu8nxXN9"
      },
      "source": [
        "select customer_name, customer_id from customer\n",
        "where customer_name like E% and address ID < 500\n",
        "order by customer_id desc limit 1"
      ],
      "execution_count": null,
      "outputs": []
    }
  ]
}