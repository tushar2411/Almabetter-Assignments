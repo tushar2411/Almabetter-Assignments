{
  "nbformat": 4,
  "nbformat_minor": 0,
  "metadata": {
    "colab": {
      "provenance": [],
      "authorship_tag": "ABX9TyPdgndkfp7gYk+2wdv5WKSX",
      "include_colab_link": true
    },
    "kernelspec": {
      "name": "python3",
      "display_name": "Python 3"
    },
    "language_info": {
      "name": "python"
    }
  },
  "cells": [
    {
      "cell_type": "markdown",
      "metadata": {
        "id": "view-in-github",
        "colab_type": "text"
      },
      "source": [
        "<a href=\"https://colab.research.google.com/github/tushar2411/Almabetter-Assignments/blob/main/Untitled10.ipynb\" target=\"_parent\"><img src=\"https://colab.research.google.com/assets/colab-badge.svg\" alt=\"Open In Colab\"/></a>"
      ]
    },
    {
      "cell_type": "code",
      "execution_count": null,
      "metadata": {
        "id": "v1Zq9oKDX0vY"
      },
      "outputs": [],
      "source": [
        "import psycopg2 as pg2\n"
      ]
    },
    {
      "cell_type": "code",
      "source": [
        "conn = pg2.connect(database = '')"
      ],
      "metadata": {
        "id": "XcqevVHVX_TH"
      },
      "execution_count": null,
      "outputs": []
    },
    {
      "cell_type": "code",
      "source": [
        "number = input(\"eneter the nuber\")\n",
        "string = str(number)\n",
        "revv_num = string[::-1]\n",
        "if string == revv_num:\n",
        "  print(\"num is palindrome\")\n",
        "else:\n",
        "  print(\"num is not\")"
      ],
      "metadata": {
        "colab": {
          "base_uri": "https://localhost:8080/"
        },
        "id": "0sWqe16SCsHy",
        "outputId": "3b3c65e3-ee2d-42b6-8e15-39cf50bbd288"
      },
      "execution_count": null,
      "outputs": [
        {
          "output_type": "stream",
          "name": "stdout",
          "text": [
            "eneter the nubermadam\n",
            "num is palindrome\n"
          ]
        }
      ]
    },
    {
      "cell_type": "code",
      "source": [
        "list1 = [10, 20, 4, 45, 99]\n",
        "list2 = list(set(list1))\n",
        "list2.sort()\n"
      ],
      "metadata": {
        "id": "JWy8_YuUDSHl"
      },
      "execution_count": null,
      "outputs": []
    },
    {
      "cell_type": "code",
      "source": [
        "lis1=list(range(4,22))\n",
        "for num in lis1:\n",
        "  if num % 2 != 0:\n",
        "    print(num,end=' ')"
      ],
      "metadata": {
        "colab": {
          "base_uri": "https://localhost:8080/"
        },
        "id": "dSZkFg--kNvB",
        "outputId": "5f3bfc5e-b030-4273-f624-b73f2c43664e"
      },
      "execution_count": null,
      "outputs": [
        {
          "output_type": "stream",
          "name": "stdout",
          "text": [
            "5 7 9 11 13 15 17 19 21 "
          ]
        }
      ]
    },
    {
      "cell_type": "code",
      "source": [
        "\n",
        "# Python program to find N largest\n",
        "# element from given list of integers\n",
        " \n",
        "l = [1000,298,3579,100,200,-45,900]\n",
        "n = int(input('num'))\n",
        " \n",
        "l.sort()\n",
        "print(l[:n])"
      ],
      "metadata": {
        "colab": {
          "base_uri": "https://localhost:8080/"
        },
        "id": "ZiNhOE3AlYmf",
        "outputId": "cd766537-8fa6-42f7-bef0-12197a23f914"
      },
      "execution_count": null,
      "outputs": [
        {
          "output_type": "stream",
          "name": "stdout",
          "text": [
            "num4\n",
            "[-45, 100, 200, 298]\n"
          ]
        }
      ]
    },
    {
      "cell_type": "code",
      "source": [
        "44start = 4\n",
        "end = 19\n",
        "for num in range(start,end+1):\n",
        "  if num % 2 == 0:\n",
        "    print(num,)"
      ],
      "metadata": {
        "colab": {
          "base_uri": "https://localhost:8080/",
          "height": 130
        },
        "id": "0VdhwzPAhJWw",
        "outputId": "76c19abc-a062-470e-eace-353fb22d1b3b"
      },
      "execution_count": null,
      "outputs": [
        {
          "output_type": "error",
          "ename": "SyntaxError",
          "evalue": "ignored",
          "traceback": [
            "\u001b[0;36m  File \u001b[0;32m\"<ipython-input-29-7dc446e79bab>\"\u001b[0;36m, line \u001b[0;32m1\u001b[0m\n\u001b[0;31m    44start = 4\u001b[0m\n\u001b[0m          ^\u001b[0m\n\u001b[0;31mSyntaxError\u001b[0m\u001b[0;31m:\u001b[0m invalid syntax\n"
          ]
        }
      ]
    },
    {
      "cell_type": "code",
      "source": [
        "num"
      ],
      "metadata": {
        "colab": {
          "base_uri": "https://localhost:8080/"
        },
        "id": "hZQCNsrFH8sW",
        "outputId": "686b0271-6b5f-4e5c-a4f0-94b73fddc747"
      },
      "execution_count": null,
      "outputs": [
        {
          "output_type": "execute_result",
          "data": {
            "text/plain": [
              "18"
            ]
          },
          "metadata": {},
          "execution_count": 15
        }
      ]
    },
    {
      "cell_type": "code",
      "source": [
        "print(list2[-2])"
      ],
      "metadata": {
        "colab": {
          "base_uri": "https://localhost:8080/"
        },
        "id": "NE0zfXcJIOnF",
        "outputId": "c5608a3b-1bb1-4cd5-b341-c29a0a0d8689"
      },
      "execution_count": null,
      "outputs": [
        {
          "output_type": "stream",
          "name": "stdout",
          "text": [
            "45\n"
          ]
        }
      ]
    },
    {
      "cell_type": "code",
      "source": [
        "print('seconf dsdds',sorted(list1-2])"
      ],
      "metadata": {
        "colab": {
          "base_uri": "https://localhost:8080/",
          "height": 165
        },
        "id": "J2jrejrJIUNv",
        "outputId": "94fa4d74-57ee-442c-d433-a378bd2d7996"
      },
      "execution_count": null,
      "outputs": [
        {
          "output_type": "error",
          "ename": "NameError",
          "evalue": "ignored",
          "traceback": [
            "\u001b[0;31m---------------------------------------------------------------------------\u001b[0m",
            "\u001b[0;31mNameError\u001b[0m                                 Traceback (most recent call last)",
            "\u001b[0;32m<ipython-input-32-944982dc9610>\u001b[0m in \u001b[0;36m<module>\u001b[0;34m\u001b[0m\n\u001b[0;32m----> 1\u001b[0;31m \u001b[0mprint\u001b[0m\u001b[0;34m(\u001b[0m\u001b[0;34m'seconf dsdds'\u001b[0m\u001b[0;34m,\u001b[0m\u001b[0msorted\u001b[0m\u001b[0;34m(\u001b[0m\u001b[0mlist1\u001b[0m\u001b[0;34m)\u001b[0m\u001b[0;34m[\u001b[0m\u001b[0;34m-\u001b[0m\u001b[0;36m2\u001b[0m\u001b[0;34m]\u001b[0m\u001b[0;34m)\u001b[0m\u001b[0;34m\u001b[0m\u001b[0;34m\u001b[0m\u001b[0m\n\u001b[0m",
            "\u001b[0;31mNameError\u001b[0m: name 'list1' is not defined"
          ]
        }
      ]
    },
    {
      "cell_type": "code",
      "source": [
        "def secondmax(arr):\n",
        "  sublist = [x for x in arr if x < max(arr)]\n",
        "  return max(sublist)\n",
        "\n",
        "if __name__ == '__main__':\n",
        "  arr = [10, 20, 4, 45, 99]\n",
        "  print(secondmax(arr))\n"
      ],
      "metadata": {
        "colab": {
          "base_uri": "https://localhost:8080/"
        },
        "id": "CF5_Y9LfI3Ol",
        "outputId": "9af20738-15d9-4b8c-be62-2671e3bf8321"
      },
      "execution_count": null,
      "outputs": [
        {
          "output_type": "stream",
          "name": "stdout",
          "text": [
            "45\n"
          ]
        }
      ]
    },
    {
      "cell_type": "code",
      "source": [
        "list1 = [10, 21, 4, 45, 66, 93, 1]\n",
        "\n",
        "even_ct,odd_ct = 0, 0\n",
        "\n",
        "for count in list1:\n",
        "  if count % 2 == 0:\n",
        "    even_ct += 1\n",
        "  else:\n",
        "    odd_ct += 1\n",
        "  \n",
        "print(even_ct)\n",
        "print(odd_ct)"
      ],
      "metadata": {
        "id": "fNyDeoA4JZU6",
        "colab": {
          "base_uri": "https://localhost:8080/"
        },
        "outputId": "08eabda2-8c19-4ad3-cb87-3c185d0d3c64"
      },
      "execution_count": null,
      "outputs": [
        {
          "output_type": "stream",
          "name": "stdout",
          "text": [
            "3\n",
            "4\n"
          ]
        }
      ]
    },
    {
      "cell_type": "code",
      "source": [
        "# Python program to count Even\n",
        "# and Odd numbers in a List\n",
        "\n",
        "# list of numbers\n",
        "list1 = [10, 21, 4, 45, 66, 93, 1]\n",
        "\n",
        "even_count, odd_count = 0, 0\n",
        "\n",
        "# iterating each number in list\n",
        "for num in list1:\n",
        "\n",
        "\t# checking condition\n",
        "\tif num % 2 == 0:\n",
        "\t\teven_count += 1\n",
        "\n",
        "\telse:\n",
        "\t\todd_count += 1\n",
        "\n",
        "print(\"Even numbers in the list: \", even_count)\n",
        "print(\"Odd numbers in the list: \", odd_count)\n"
      ],
      "metadata": {
        "colab": {
          "base_uri": "https://localhost:8080/"
        },
        "id": "-AbvpJjjoMlF",
        "outputId": "c9286ead-2da8-43d9-8c57-fca5220c130a"
      },
      "execution_count": null,
      "outputs": [
        {
          "output_type": "stream",
          "name": "stdout",
          "text": [
            "Even numbers in the list:  3\n",
            "Odd numbers in the list:  4\n"
          ]
        }
      ]
    },
    {
      "cell_type": "code",
      "source": [
        "\n",
        "# Python program to print Positive Numbers in a List\n",
        "\n",
        "# list of numbers\n",
        "list1 = [-10, -21, -4, 45, -66, 93]\n",
        "\n",
        "# using list comprehension\n",
        "pos_nos = [num for num in list1 if num >= 0]\n",
        "\n",
        "print(\"Positive numbers in the list: \", *pos_nos)\n"
      ],
      "metadata": {
        "colab": {
          "base_uri": "https://localhost:8080/"
        },
        "id": "8YwnSxu0o_99",
        "outputId": "88d206da-28e3-4b22-88cf-e3ab5943122b"
      },
      "execution_count": null,
      "outputs": [
        {
          "output_type": "stream",
          "name": "stdout",
          "text": [
            "Positive numbers in the list:  45 93\n"
          ]
        }
      ]
    },
    {
      "cell_type": "code",
      "source": [
        "import numpy as np\n",
        "list1 = np.array([-10, -21, -4, 45, -66, 93])\n",
        "ls2 = sorted(list1)"
      ],
      "metadata": {
        "id": "_jK1dSPJxoLw"
      },
      "execution_count": null,
      "outputs": []
    },
    {
      "cell_type": "code",
      "source": [
        "ls2"
      ],
      "metadata": {
        "colab": {
          "base_uri": "https://localhost:8080/"
        },
        "id": "qCJZKND9MbVK",
        "outputId": "c20d5af6-6025-4bf5-d263-92310b2d6af1"
      },
      "execution_count": null,
      "outputs": [
        {
          "output_type": "execute_result",
          "data": {
            "text/plain": [
              "[-66, -21, -10, -4, 45, 93]"
            ]
          },
          "metadata": {},
          "execution_count": 3
        }
      ]
    },
    {
      "cell_type": "code",
      "source": [
        "ps = ls2[-2:]"
      ],
      "metadata": {
        "id": "CLQO6I9wMhNi"
      },
      "execution_count": null,
      "outputs": []
    },
    {
      "cell_type": "code",
      "source": [
        "ps"
      ],
      "metadata": {
        "colab": {
          "base_uri": "https://localhost:8080/"
        },
        "id": "9hogqOORNsrz",
        "outputId": "f9d299ce-770b-4dca-d119-cb02047272ab"
      },
      "execution_count": null,
      "outputs": [
        {
          "output_type": "execute_result",
          "data": {
            "text/plain": [
              "[45, 93]"
            ]
          },
          "metadata": {},
          "execution_count": 9
        }
      ]
    },
    {
      "cell_type": "code",
      "source": [
        "def square(number):\n",
        "  number=0\n",
        "  for i in range(1,number+1):\n",
        "    i = i**2\n",
        "    print(i)"
      ],
      "metadata": {
        "id": "UBIDpcOxQgaU"
      },
      "execution_count": 48,
      "outputs": []
    },
    {
      "cell_type": "code",
      "source": [
        "i = square(5)"
      ],
      "metadata": {
        "id": "pGxuLlNztiIw"
      },
      "execution_count": 49,
      "outputs": []
    },
    {
      "cell_type": "code",
      "source": [
        "def sumsqr(n):\n",
        "  sm = 0\n",
        "  for i in range(1,n+1):\n",
        "    sm = sm + (i*i)\n",
        "  return sm"
      ],
      "metadata": {
        "id": "i4kYjInwtugV"
      },
      "execution_count": null,
      "outputs": []
    },
    {
      "cell_type": "code",
      "source": [
        "def squaresum(n) :\n",
        "  \n",
        "    # Iterate i from 1 \n",
        "    # and n finding \n",
        "    # square of i and\n",
        "    # add to sum.\n",
        "    sm = 0\n",
        "    for i in range(1, n+1) :\n",
        "        sm = sm + (i * i)\n",
        "      \n",
        "    return sm\n",
        "  \n",
        "# Driven Program\n",
        "n = 6\n",
        "print(squaresum(n))"
      ],
      "metadata": {
        "colab": {
          "base_uri": "https://localhost:8080/"
        },
        "id": "3qwyJqzPuPyw",
        "outputId": "af1a50da-6734-46e3-a81a-ddb479ba168f"
      },
      "execution_count": null,
      "outputs": [
        {
          "output_type": "stream",
          "name": "stdout",
          "text": [
            "91\n"
          ]
        }
      ]
    },
    {
      "cell_type": "code",
      "source": [
        "List = [12, 36, 43, 66]\n",
        "print(List)\n",
        "pos1,pos2 = 1,3\n",
        "List[pos1],List[pos2] = List[pos1],List[pos2]\n",
        "print(List)"
      ],
      "metadata": {
        "colab": {
          "base_uri": "https://localhost:8080/"
        },
        "id": "Ry8FLr1owIXS",
        "outputId": "4f1ebbf5-4530-49fc-d441-cdaefc77863d"
      },
      "execution_count": null,
      "outputs": [
        {
          "output_type": "stream",
          "name": "stdout",
          "text": [
            "[12, 36, 43, 66]\n",
            "[12, 36, 43, 66]\n"
          ]
        }
      ]
    },
    {
      "cell_type": "code",
      "source": [
        "# Python3 program to swap elements\n",
        "# at given positions\n",
        "\n",
        "# Swap function\n",
        "def swapPositions(list, pos1, pos2):\n",
        "\t\n",
        "\tlist[pos1], list[pos2] = list[pos2], list[pos1]\n",
        "\treturn list\n",
        "\n",
        "# Driver function\n",
        "List = [12, 56, 43, 56]\n",
        "pos1, pos2 = 1, 3\n",
        "\n",
        "print(swapPositions(List, pos1-1, pos2-1))\n"
      ],
      "metadata": {
        "colab": {
          "base_uri": "https://localhost:8080/"
        },
        "id": "R2-HuFFYwLj8",
        "outputId": "382ebb0e-101b-451f-b25f-de190bfe8b76"
      },
      "execution_count": null,
      "outputs": [
        {
          "output_type": "stream",
          "name": "stdout",
          "text": [
            "[43, 56, 12, 56]\n"
          ]
        }
      ]
    },
    {
      "cell_type": "code",
      "source": [
        "a=10\n",
        "b=20\n",
        "\n",
        "temp=a\n",
        "a=b\n",
        "b=temp\n",
        "print(a,b)"
      ],
      "metadata": {
        "colab": {
          "base_uri": "https://localhost:8080/"
        },
        "id": "HIXeOLs40_Eu",
        "outputId": "fb83cebb-95c6-41c5-9eb7-bc668ea246e0"
      },
      "execution_count": null,
      "outputs": [
        {
          "output_type": "stream",
          "name": "stdout",
          "text": [
            "20 10\n"
          ]
        }
      ]
    },
    {
      "cell_type": "code",
      "source": [
        "List = [12, 36, 43, 66,95,50]\n",
        "print(List)\n",
        "pos1,pos2 = 2,5\n",
        "List[pos1],List[pos2] = List[pos2],List[pos1]\n",
        "print(List)"
      ],
      "metadata": {
        "colab": {
          "base_uri": "https://localhost:8080/"
        },
        "id": "H2IYR8mW3m2g",
        "outputId": "d8102764-3212-47cf-9293-fa05e59a2e9d"
      },
      "execution_count": 45,
      "outputs": [
        {
          "output_type": "stream",
          "name": "stdout",
          "text": [
            "[12, 36, 43, 66, 95, 50]\n",
            "[12, 36, 50, 66, 95, 43]\n"
          ]
        }
      ]
    },
    {
      "cell_type": "code",
      "source": [
        "num = range(1,101)\n",
        "# sum = 0\n",
        "for i in num:\n",
        "  i = i**2\n",
        "  # sum = sum+1\n",
        "print(i)"
      ],
      "metadata": {
        "id": "Qco2OojF9O1C",
        "colab": {
          "base_uri": "https://localhost:8080/"
        },
        "outputId": "a5831632-391c-44ea-ffb3-bad9bac644c8"
      },
      "execution_count": 47,
      "outputs": [
        {
          "output_type": "stream",
          "name": "stdout",
          "text": [
            "10000\n"
          ]
        }
      ]
    },
    {
      "cell_type": "code",
      "source": [
        "for i in range(1,101,2):\n",
        "  if i % 2 !=0:\n",
        "    i = i**2\n",
        "    print(i)"
      ],
      "metadata": {
        "id": "lYCDbpRBMUuS"
      },
      "execution_count": null,
      "outputs": []
    },
    {
      "cell_type": "code",
      "source": [
        "num = [n**2 for n in range(1,101)]\n",
        "print(num)"
      ],
      "metadata": {
        "colab": {
          "base_uri": "https://localhost:8080/"
        },
        "id": "NI7D6D3SN87e",
        "outputId": "a85771de-7655-42ec-8297-c1a2f7f21843"
      },
      "execution_count": 58,
      "outputs": [
        {
          "output_type": "stream",
          "name": "stdout",
          "text": [
            "[1, 4, 9, 16, 25, 36, 49, 64, 81, 100, 121, 144, 169, 196, 225, 256, 289, 324, 361, 400, 441, 484, 529, 576, 625, 676, 729, 784, 841, 900, 961, 1024, 1089, 1156, 1225, 1296, 1369, 1444, 1521, 1600, 1681, 1764, 1849, 1936, 2025, 2116, 2209, 2304, 2401, 2500, 2601, 2704, 2809, 2916, 3025, 3136, 3249, 3364, 3481, 3600, 3721, 3844, 3969, 4096, 4225, 4356, 4489, 4624, 4761, 4900, 5041, 5184, 5329, 5476, 5625, 5776, 5929, 6084, 6241, 6400, 6561, 6724, 6889, 7056, 7225, 7396, 7569, 7744, 7921, 8100, 8281, 8464, 8649, 8836, 9025, 9216, 9409, 9604, 9801, 10000]\n"
          ]
        }
      ]
    },
    {
      "cell_type": "code",
      "source": [],
      "metadata": {
        "id": "nugyyBY1OznO"
      },
      "execution_count": null,
      "outputs": []
    }
  ]
}