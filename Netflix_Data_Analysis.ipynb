{
  "cells": [
    {
      "cell_type": "markdown",
      "metadata": {
        "id": "view-in-github",
        "colab_type": "text"
      },
      "source": [
        "<a href=\"https://colab.research.google.com/github/tushar2411/Almabetter-Assignments/blob/main/Netflix_Data_Analysis.ipynb\" target=\"_parent\"><img src=\"https://colab.research.google.com/assets/colab-badge.svg\" alt=\"Open In Colab\"/></a>"
      ]
    },
    {
      "cell_type": "markdown",
      "source": [
        "# **Breakdown of this notebook:**\n",
        "\n",
        "###1) Importing Libraries\n",
        "\n",
        "###2) Loading the dataset\n",
        "\n",
        "###3) Data Cleaning:\n",
        "\n",
        " \n",
        "\n",
        "1.   Deleting redundant columns.\n",
        "\n",
        "2.   Dropping duplicates.\n",
        "\n",
        "1.   Cleaning individual columns.\n",
        "\n",
        "2.   List item\n",
        "\n",
        "\n",
        "\n",
        "\n"
      ],
      "metadata": {
        "id": "1Oevz44nHjJM"
      }
    },
    {
      "cell_type": "markdown",
      "source": [
        "### Importing Libraries below :-"
      ],
      "metadata": {
        "id": "KoGXIKToIcva"
      }
    },
    {
      "cell_type": "code",
      "source": [
        "import numpy as np\n",
        "import pandas as pd\n",
        "import matplotlib.pyplot as plt\n",
        "import seaborn as sns"
      ],
      "metadata": {
        "id": "SrTBVGOBfp_k"
      },
      "execution_count": null,
      "outputs": []
    },
    {
      "cell_type": "markdown",
      "source": [
        "### Loading Data Set"
      ],
      "metadata": {
        "id": "_sA5r2flIoP1"
      }
    },
    {
      "cell_type": "code",
      "source": [
        "netflix = pd.read_csv(\"/content/drive/MyDrive/netflix_titles.csv\")"
      ],
      "metadata": {
        "id": "Tsqh2SM5F5HY"
      },
      "execution_count": null,
      "outputs": []
    },
    {
      "cell_type": "markdown",
      "source": [
        "First 5 values"
      ],
      "metadata": {
        "id": "MMN1ijqqIwfT"
      }
    },
    {
      "cell_type": "code",
      "source": [
        "netflix.head()"
      ],
      "metadata": {
        "colab": {
          "base_uri": "https://localhost:8080/",
          "height": 406
        },
        "id": "uaIzaqSbG-n7",
        "outputId": "aff8f151-a376-4d5b-8ad1-9a206e339b98"
      },
      "execution_count": null,
      "outputs": [
        {
          "output_type": "execute_result",
          "data": {
            "text/plain": [
              "    show_id     type                                    title  \\\n",
              "0  81145628    Movie  Norm of the North: King Sized Adventure   \n",
              "1  80117401    Movie               Jandino: Whatever it Takes   \n",
              "2  70234439  TV Show                       Transformers Prime   \n",
              "3  80058654  TV Show         Transformers: Robots in Disguise   \n",
              "4  80125979    Movie                             #realityhigh   \n",
              "\n",
              "                   director  \\\n",
              "0  Richard Finn, Tim Maltby   \n",
              "1                       NaN   \n",
              "2                       NaN   \n",
              "3                       NaN   \n",
              "4          Fernando Lebrija   \n",
              "\n",
              "                                                cast  \\\n",
              "0  Alan Marriott, Andrew Toth, Brian Dobson, Cole...   \n",
              "1                                   Jandino Asporaat   \n",
              "2  Peter Cullen, Sumalee Montano, Frank Welker, J...   \n",
              "3  Will Friedle, Darren Criss, Constance Zimmer, ...   \n",
              "4  Nesta Cooper, Kate Walsh, John Michael Higgins...   \n",
              "\n",
              "                                    country         date_added  release_year  \\\n",
              "0  United States, India, South Korea, China  September 9, 2019          2019   \n",
              "1                            United Kingdom  September 9, 2016          2016   \n",
              "2                             United States  September 8, 2018          2013   \n",
              "3                             United States  September 8, 2018          2016   \n",
              "4                             United States  September 8, 2017          2017   \n",
              "\n",
              "     rating  duration                           listed_in  \\\n",
              "0     TV-PG    90 min  Children & Family Movies, Comedies   \n",
              "1     TV-MA    94 min                     Stand-Up Comedy   \n",
              "2  TV-Y7-FV  1 Season                            Kids' TV   \n",
              "3     TV-Y7  1 Season                            Kids' TV   \n",
              "4     TV-14    99 min                            Comedies   \n",
              "\n",
              "                                         description  \n",
              "0  Before planning an awesome wedding for his gra...  \n",
              "1  Jandino Asporaat riffs on the challenges of ra...  \n",
              "2  With the help of three human allies, the Autob...  \n",
              "3  When a prison ship crash unleashes hundreds of...  \n",
              "4  When nerdy high schooler Dani finally attracts...  "
            ],
            "text/html": [
              "\n",
              "  <div id=\"df-836c127b-bf5b-4d47-90e0-56ccebf6a0bf\">\n",
              "    <div class=\"colab-df-container\">\n",
              "      <div>\n",
              "<style scoped>\n",
              "    .dataframe tbody tr th:only-of-type {\n",
              "        vertical-align: middle;\n",
              "    }\n",
              "\n",
              "    .dataframe tbody tr th {\n",
              "        vertical-align: top;\n",
              "    }\n",
              "\n",
              "    .dataframe thead th {\n",
              "        text-align: right;\n",
              "    }\n",
              "</style>\n",
              "<table border=\"1\" class=\"dataframe\">\n",
              "  <thead>\n",
              "    <tr style=\"text-align: right;\">\n",
              "      <th></th>\n",
              "      <th>show_id</th>\n",
              "      <th>type</th>\n",
              "      <th>title</th>\n",
              "      <th>director</th>\n",
              "      <th>cast</th>\n",
              "      <th>country</th>\n",
              "      <th>date_added</th>\n",
              "      <th>release_year</th>\n",
              "      <th>rating</th>\n",
              "      <th>duration</th>\n",
              "      <th>listed_in</th>\n",
              "      <th>description</th>\n",
              "    </tr>\n",
              "  </thead>\n",
              "  <tbody>\n",
              "    <tr>\n",
              "      <th>0</th>\n",
              "      <td>81145628</td>\n",
              "      <td>Movie</td>\n",
              "      <td>Norm of the North: King Sized Adventure</td>\n",
              "      <td>Richard Finn, Tim Maltby</td>\n",
              "      <td>Alan Marriott, Andrew Toth, Brian Dobson, Cole...</td>\n",
              "      <td>United States, India, South Korea, China</td>\n",
              "      <td>September 9, 2019</td>\n",
              "      <td>2019</td>\n",
              "      <td>TV-PG</td>\n",
              "      <td>90 min</td>\n",
              "      <td>Children &amp; Family Movies, Comedies</td>\n",
              "      <td>Before planning an awesome wedding for his gra...</td>\n",
              "    </tr>\n",
              "    <tr>\n",
              "      <th>1</th>\n",
              "      <td>80117401</td>\n",
              "      <td>Movie</td>\n",
              "      <td>Jandino: Whatever it Takes</td>\n",
              "      <td>NaN</td>\n",
              "      <td>Jandino Asporaat</td>\n",
              "      <td>United Kingdom</td>\n",
              "      <td>September 9, 2016</td>\n",
              "      <td>2016</td>\n",
              "      <td>TV-MA</td>\n",
              "      <td>94 min</td>\n",
              "      <td>Stand-Up Comedy</td>\n",
              "      <td>Jandino Asporaat riffs on the challenges of ra...</td>\n",
              "    </tr>\n",
              "    <tr>\n",
              "      <th>2</th>\n",
              "      <td>70234439</td>\n",
              "      <td>TV Show</td>\n",
              "      <td>Transformers Prime</td>\n",
              "      <td>NaN</td>\n",
              "      <td>Peter Cullen, Sumalee Montano, Frank Welker, J...</td>\n",
              "      <td>United States</td>\n",
              "      <td>September 8, 2018</td>\n",
              "      <td>2013</td>\n",
              "      <td>TV-Y7-FV</td>\n",
              "      <td>1 Season</td>\n",
              "      <td>Kids' TV</td>\n",
              "      <td>With the help of three human allies, the Autob...</td>\n",
              "    </tr>\n",
              "    <tr>\n",
              "      <th>3</th>\n",
              "      <td>80058654</td>\n",
              "      <td>TV Show</td>\n",
              "      <td>Transformers: Robots in Disguise</td>\n",
              "      <td>NaN</td>\n",
              "      <td>Will Friedle, Darren Criss, Constance Zimmer, ...</td>\n",
              "      <td>United States</td>\n",
              "      <td>September 8, 2018</td>\n",
              "      <td>2016</td>\n",
              "      <td>TV-Y7</td>\n",
              "      <td>1 Season</td>\n",
              "      <td>Kids' TV</td>\n",
              "      <td>When a prison ship crash unleashes hundreds of...</td>\n",
              "    </tr>\n",
              "    <tr>\n",
              "      <th>4</th>\n",
              "      <td>80125979</td>\n",
              "      <td>Movie</td>\n",
              "      <td>#realityhigh</td>\n",
              "      <td>Fernando Lebrija</td>\n",
              "      <td>Nesta Cooper, Kate Walsh, John Michael Higgins...</td>\n",
              "      <td>United States</td>\n",
              "      <td>September 8, 2017</td>\n",
              "      <td>2017</td>\n",
              "      <td>TV-14</td>\n",
              "      <td>99 min</td>\n",
              "      <td>Comedies</td>\n",
              "      <td>When nerdy high schooler Dani finally attracts...</td>\n",
              "    </tr>\n",
              "  </tbody>\n",
              "</table>\n",
              "</div>\n",
              "      <button class=\"colab-df-convert\" onclick=\"convertToInteractive('df-836c127b-bf5b-4d47-90e0-56ccebf6a0bf')\"\n",
              "              title=\"Convert this dataframe to an interactive table.\"\n",
              "              style=\"display:none;\">\n",
              "        \n",
              "  <svg xmlns=\"http://www.w3.org/2000/svg\" height=\"24px\"viewBox=\"0 0 24 24\"\n",
              "       width=\"24px\">\n",
              "    <path d=\"M0 0h24v24H0V0z\" fill=\"none\"/>\n",
              "    <path d=\"M18.56 5.44l.94 2.06.94-2.06 2.06-.94-2.06-.94-.94-2.06-.94 2.06-2.06.94zm-11 1L8.5 8.5l.94-2.06 2.06-.94-2.06-.94L8.5 2.5l-.94 2.06-2.06.94zm10 10l.94 2.06.94-2.06 2.06-.94-2.06-.94-.94-2.06-.94 2.06-2.06.94z\"/><path d=\"M17.41 7.96l-1.37-1.37c-.4-.4-.92-.59-1.43-.59-.52 0-1.04.2-1.43.59L10.3 9.45l-7.72 7.72c-.78.78-.78 2.05 0 2.83L4 21.41c.39.39.9.59 1.41.59.51 0 1.02-.2 1.41-.59l7.78-7.78 2.81-2.81c.8-.78.8-2.07 0-2.86zM5.41 20L4 18.59l7.72-7.72 1.47 1.35L5.41 20z\"/>\n",
              "  </svg>\n",
              "      </button>\n",
              "      \n",
              "  <style>\n",
              "    .colab-df-container {\n",
              "      display:flex;\n",
              "      flex-wrap:wrap;\n",
              "      gap: 12px;\n",
              "    }\n",
              "\n",
              "    .colab-df-convert {\n",
              "      background-color: #E8F0FE;\n",
              "      border: none;\n",
              "      border-radius: 50%;\n",
              "      cursor: pointer;\n",
              "      display: none;\n",
              "      fill: #1967D2;\n",
              "      height: 32px;\n",
              "      padding: 0 0 0 0;\n",
              "      width: 32px;\n",
              "    }\n",
              "\n",
              "    .colab-df-convert:hover {\n",
              "      background-color: #E2EBFA;\n",
              "      box-shadow: 0px 1px 2px rgba(60, 64, 67, 0.3), 0px 1px 3px 1px rgba(60, 64, 67, 0.15);\n",
              "      fill: #174EA6;\n",
              "    }\n",
              "\n",
              "    [theme=dark] .colab-df-convert {\n",
              "      background-color: #3B4455;\n",
              "      fill: #D2E3FC;\n",
              "    }\n",
              "\n",
              "    [theme=dark] .colab-df-convert:hover {\n",
              "      background-color: #434B5C;\n",
              "      box-shadow: 0px 1px 3px 1px rgba(0, 0, 0, 0.15);\n",
              "      filter: drop-shadow(0px 1px 2px rgba(0, 0, 0, 0.3));\n",
              "      fill: #FFFFFF;\n",
              "    }\n",
              "  </style>\n",
              "\n",
              "      <script>\n",
              "        const buttonEl =\n",
              "          document.querySelector('#df-836c127b-bf5b-4d47-90e0-56ccebf6a0bf button.colab-df-convert');\n",
              "        buttonEl.style.display =\n",
              "          google.colab.kernel.accessAllowed ? 'block' : 'none';\n",
              "\n",
              "        async function convertToInteractive(key) {\n",
              "          const element = document.querySelector('#df-836c127b-bf5b-4d47-90e0-56ccebf6a0bf');\n",
              "          const dataTable =\n",
              "            await google.colab.kernel.invokeFunction('convertToInteractive',\n",
              "                                                     [key], {});\n",
              "          if (!dataTable) return;\n",
              "\n",
              "          const docLinkHtml = 'Like what you see? Visit the ' +\n",
              "            '<a target=\"_blank\" href=https://colab.research.google.com/notebooks/data_table.ipynb>data table notebook</a>'\n",
              "            + ' to learn more about interactive tables.';\n",
              "          element.innerHTML = '';\n",
              "          dataTable['output_type'] = 'display_data';\n",
              "          await google.colab.output.renderOutput(dataTable, element);\n",
              "          const docLink = document.createElement('div');\n",
              "          docLink.innerHTML = docLinkHtml;\n",
              "          element.appendChild(docLink);\n",
              "        }\n",
              "      </script>\n",
              "    </div>\n",
              "  </div>\n",
              "  "
            ]
          },
          "metadata": {},
          "execution_count": 3
        }
      ]
    },
    {
      "cell_type": "markdown",
      "source": [
        "Shape of Data Set"
      ],
      "metadata": {
        "id": "wbEALrchI2yd"
      }
    },
    {
      "cell_type": "code",
      "source": [
        "netflix.shape"
      ],
      "metadata": {
        "colab": {
          "base_uri": "https://localhost:8080/"
        },
        "id": "XwuzZUOHHCwz",
        "outputId": "a313d257-8e3d-4671-bf55-42d9d7c17d00"
      },
      "execution_count": null,
      "outputs": [
        {
          "output_type": "execute_result",
          "data": {
            "text/plain": [
              "(6234, 12)"
            ]
          },
          "metadata": {},
          "execution_count": 4
        }
      ]
    },
    {
      "cell_type": "code",
      "source": [
        "# Print the Column Names\n",
        "netflix.columns"
      ],
      "metadata": {
        "colab": {
          "base_uri": "https://localhost:8080/"
        },
        "id": "z3zmdpuxHQhd",
        "outputId": "c66d6bed-54c1-4d10-d3a7-75f2b39a3915"
      },
      "execution_count": null,
      "outputs": [
        {
          "output_type": "execute_result",
          "data": {
            "text/plain": [
              "Index(['show_id', 'type', 'title', 'director', 'cast', 'country', 'date_added',\n",
              "       'release_year', 'rating', 'duration', 'listed_in', 'description'],\n",
              "      dtype='object')"
            ]
          },
          "metadata": {},
          "execution_count": 6
        }
      ]
    },
    {
      "cell_type": "code",
      "source": [
        "# Checking for null values\n",
        "\n",
        "netflix.isnull().sum()"
      ],
      "metadata": {
        "colab": {
          "base_uri": "https://localhost:8080/"
        },
        "id": "i18B8dnAJFci",
        "outputId": "63051309-30d6-4082-fb29-d1f7e47f8508"
      },
      "execution_count": null,
      "outputs": [
        {
          "output_type": "execute_result",
          "data": {
            "text/plain": [
              "show_id            0\n",
              "type               0\n",
              "title              0\n",
              "director        1969\n",
              "cast             570\n",
              "country          476\n",
              "date_added        11\n",
              "release_year       0\n",
              "rating            10\n",
              "duration           0\n",
              "listed_in          0\n",
              "description        0\n",
              "dtype: int64"
            ]
          },
          "metadata": {},
          "execution_count": 8
        }
      ]
    },
    {
      "cell_type": "code",
      "source": [
        "# Checking unique values\n",
        "\n",
        "netflix.nunique()"
      ],
      "metadata": {
        "colab": {
          "base_uri": "https://localhost:8080/"
        },
        "id": "l1-EVWO2Jag8",
        "outputId": "ea3ce8be-bcb1-4420-9305-5c34269fa466"
      },
      "execution_count": null,
      "outputs": [
        {
          "output_type": "execute_result",
          "data": {
            "text/plain": [
              "show_id         6234\n",
              "type               2\n",
              "title           6172\n",
              "director        3301\n",
              "cast            5469\n",
              "country          554\n",
              "date_added      1524\n",
              "release_year      72\n",
              "rating            14\n",
              "duration         201\n",
              "listed_in        461\n",
              "description     6226\n",
              "dtype: int64"
            ]
          },
          "metadata": {},
          "execution_count": 10
        }
      ]
    },
    {
      "cell_type": "code",
      "source": [
        "# Checking for duplicates\n",
        "\n",
        "netflix.duplicated().sum()"
      ],
      "metadata": {
        "colab": {
          "base_uri": "https://localhost:8080/"
        },
        "id": "CK0nNpbCJ36L",
        "outputId": "cdb700a7-77a3-4b9b-ab30-0f78ed15542b"
      },
      "execution_count": null,
      "outputs": [
        {
          "output_type": "execute_result",
          "data": {
            "text/plain": [
              "0"
            ]
          },
          "metadata": {},
          "execution_count": 11
        }
      ]
    },
    {
      "cell_type": "markdown",
      "source": [
        "In DataFrame no Duplicate Values are present"
      ],
      "metadata": {
        "id": "6Jb336d_KiZZ"
      }
    },
    {
      "cell_type": "code",
      "source": [
        "# Making copy of data set\n",
        "\n",
        "df = netflix.copy()"
      ],
      "metadata": {
        "id": "AI7vybO1KfH3"
      },
      "execution_count": null,
      "outputs": []
    },
    {
      "cell_type": "code",
      "source": [
        "df.shape"
      ],
      "metadata": {
        "colab": {
          "base_uri": "https://localhost:8080/"
        },
        "id": "exWnm1pCK-U9",
        "outputId": "1afc3cf9-f475-4bf3-da2f-508dc0490771"
      },
      "execution_count": null,
      "outputs": [
        {
          "output_type": "execute_result",
          "data": {
            "text/plain": [
              "(6234, 12)"
            ]
          },
          "metadata": {},
          "execution_count": 15
        }
      ]
    },
    {
      "cell_type": "markdown",
      "source": [
        "Lets Drop Null values"
      ],
      "metadata": {
        "id": "uJjWCZmmLK9R"
      }
    },
    {
      "cell_type": "code",
      "source": [
        "# dropping nulls\n",
        "\n",
        "df = df.dropna()"
      ],
      "metadata": {
        "id": "yfHGuvj-LD0X"
      },
      "execution_count": null,
      "outputs": []
    },
    {
      "cell_type": "code",
      "source": [
        "df.shape"
      ],
      "metadata": {
        "colab": {
          "base_uri": "https://localhost:8080/"
        },
        "id": "6WRk2E0OLWwR",
        "outputId": "92d2d944-152a-41a3-9348-6fdf053b3f44"
      },
      "execution_count": null,
      "outputs": [
        {
          "output_type": "execute_result",
          "data": {
            "text/plain": [
              "(3774, 12)"
            ]
          },
          "metadata": {},
          "execution_count": 17
        }
      ]
    },
    {
      "cell_type": "code",
      "source": [
        "df.sample(10)"
      ],
      "metadata": {
        "colab": {
          "base_uri": "https://localhost:8080/",
          "height": 684
        },
        "id": "qBpoOqptLYgi",
        "outputId": "8386a735-dcfe-404c-acc6-20955cb30eec"
      },
      "execution_count": null,
      "outputs": [
        {
          "output_type": "execute_result",
          "data": {
            "text/plain": [
              "       show_id     type                                  title  \\\n",
              "884   80187618    Movie                           Manje Bistre   \n",
              "920   80198771    Movie                               26 Years   \n",
              "5838  80179201  TV Show                        Hoff the Record   \n",
              "3752  81059388    Movie        Incredibles 2 (Spanish Version)   \n",
              "2773  80119249    Movie                          1 Mile to You   \n",
              "3000  70301023    Movie          Tom Segura: Completely Normal   \n",
              "1492  70108590    Movie                   Welcome to Sajjanpur   \n",
              "4606  80039517    Movie                       The Ridiculous 6   \n",
              "217   81030342    Movie  Los Tigres del Norte at Folsom Prison   \n",
              "2612  80160814    Movie                           The Incident   \n",
              "\n",
              "              director                                               cast  \\\n",
              "884   Baljit Singh Deo  Gippy Grewal, Sonam Bajwa, Karamjit Anmol, Jag...   \n",
              "920      Geun-hyun Cho  Goo Jin, Hye-jin Han, Soo-bin Bae, Seul-ong Im...   \n",
              "5838   Gordon Anderson  David Hasselhoff, Asim Chaudhry, Fergus Craig,...   \n",
              "3752         Brad Bird  Víctor Trujillo, Consuelo Duval, Darío T. Pie,...   \n",
              "2773       Leif Tilden  Billy Crudup, Graham Rogers, Liana Liberato, S...   \n",
              "3000       Jay Chapman                                         Tom Segura   \n",
              "1492     Shyam Benegal  Shreyas Talpade, Amrita Rao, Ravi Kishan, Ila ...   \n",
              "4606      Frank Coraci  Adam Sandler, Terry Crews, Jorge Garcia, Taylo...   \n",
              "217        Tom Donahue                               Los Tigres del Norte   \n",
              "2612       Isaac Ezban  Raúl Méndez, Nailea Norvind, Hernán Mendoza, H...   \n",
              "\n",
              "             country          date_added  release_year rating   duration  \\\n",
              "884            India     October 1, 2018          2017  TV-PG    136 min   \n",
              "920      South Korea     October 1, 2017          2012  TV-MA    135 min   \n",
              "5838  United Kingdom      March 31, 2017          2016  TV-MA  2 Seasons   \n",
              "3752   United States    February 8, 2019          2018     PG    118 min   \n",
              "2773   United States        July 7, 2017          2017  TV-14    105 min   \n",
              "3000   United States       July 13, 2017          2014  TV-MA     74 min   \n",
              "1492           India    November 1, 2018          2008  TV-PG    131 min   \n",
              "4606   United States   December 11, 2015          2015  TV-14    120 min   \n",
              "217    United States  September 15, 2019          2019  TV-PG     64 min   \n",
              "2612          Mexico       June 19, 2017          2014  TV-MA    100 min   \n",
              "\n",
              "                                              listed_in  \\\n",
              "884              Comedies, Dramas, International Movies   \n",
              "920             Dramas, International Movies, Thrillers   \n",
              "5838                      British TV Shows, TV Comedies   \n",
              "3752                 Children & Family Movies, Comedies   \n",
              "2773             Dramas, Romantic Movies, Sports Movies   \n",
              "3000                                    Stand-Up Comedy   \n",
              "1492             Comedies, Dramas, International Movies   \n",
              "4606                       Action & Adventure, Comedies   \n",
              "217   Documentaries, International Movies, Music & M...   \n",
              "2612  International Movies, Sci-Fi & Fantasy, Thrillers   \n",
              "\n",
              "                                            description  \n",
              "884   While prepping for a family wedding, a young m...  \n",
              "920   Twenty-six years after the 1980 massacre at Gw...  \n",
              "5838  TV star David Hasselhoff hopes to reboot his c...  \n",
              "3752  When Elastigirl gets recruited for a high-prof...  \n",
              "2773  After escaping the bus accident that killed hi...  \n",
              "3000  Levelheaded stand-up Tom Segura shares offhand...  \n",
              "1492  An educated man assists the illiterate residen...  \n",
              "4606  When his outlaw dad is kidnapped, Tommy “White...  \n",
              "217   The beloved norteño band Los Tigres del Norte ...  \n",
              "2612  Two criminals race down a stairwell, a cop clo...  "
            ],
            "text/html": [
              "\n",
              "  <div id=\"df-8143d3f7-f444-4017-ba98-fe1574fd7402\">\n",
              "    <div class=\"colab-df-container\">\n",
              "      <div>\n",
              "<style scoped>\n",
              "    .dataframe tbody tr th:only-of-type {\n",
              "        vertical-align: middle;\n",
              "    }\n",
              "\n",
              "    .dataframe tbody tr th {\n",
              "        vertical-align: top;\n",
              "    }\n",
              "\n",
              "    .dataframe thead th {\n",
              "        text-align: right;\n",
              "    }\n",
              "</style>\n",
              "<table border=\"1\" class=\"dataframe\">\n",
              "  <thead>\n",
              "    <tr style=\"text-align: right;\">\n",
              "      <th></th>\n",
              "      <th>show_id</th>\n",
              "      <th>type</th>\n",
              "      <th>title</th>\n",
              "      <th>director</th>\n",
              "      <th>cast</th>\n",
              "      <th>country</th>\n",
              "      <th>date_added</th>\n",
              "      <th>release_year</th>\n",
              "      <th>rating</th>\n",
              "      <th>duration</th>\n",
              "      <th>listed_in</th>\n",
              "      <th>description</th>\n",
              "    </tr>\n",
              "  </thead>\n",
              "  <tbody>\n",
              "    <tr>\n",
              "      <th>884</th>\n",
              "      <td>80187618</td>\n",
              "      <td>Movie</td>\n",
              "      <td>Manje Bistre</td>\n",
              "      <td>Baljit Singh Deo</td>\n",
              "      <td>Gippy Grewal, Sonam Bajwa, Karamjit Anmol, Jag...</td>\n",
              "      <td>India</td>\n",
              "      <td>October 1, 2018</td>\n",
              "      <td>2017</td>\n",
              "      <td>TV-PG</td>\n",
              "      <td>136 min</td>\n",
              "      <td>Comedies, Dramas, International Movies</td>\n",
              "      <td>While prepping for a family wedding, a young m...</td>\n",
              "    </tr>\n",
              "    <tr>\n",
              "      <th>920</th>\n",
              "      <td>80198771</td>\n",
              "      <td>Movie</td>\n",
              "      <td>26 Years</td>\n",
              "      <td>Geun-hyun Cho</td>\n",
              "      <td>Goo Jin, Hye-jin Han, Soo-bin Bae, Seul-ong Im...</td>\n",
              "      <td>South Korea</td>\n",
              "      <td>October 1, 2017</td>\n",
              "      <td>2012</td>\n",
              "      <td>TV-MA</td>\n",
              "      <td>135 min</td>\n",
              "      <td>Dramas, International Movies, Thrillers</td>\n",
              "      <td>Twenty-six years after the 1980 massacre at Gw...</td>\n",
              "    </tr>\n",
              "    <tr>\n",
              "      <th>5838</th>\n",
              "      <td>80179201</td>\n",
              "      <td>TV Show</td>\n",
              "      <td>Hoff the Record</td>\n",
              "      <td>Gordon Anderson</td>\n",
              "      <td>David Hasselhoff, Asim Chaudhry, Fergus Craig,...</td>\n",
              "      <td>United Kingdom</td>\n",
              "      <td>March 31, 2017</td>\n",
              "      <td>2016</td>\n",
              "      <td>TV-MA</td>\n",
              "      <td>2 Seasons</td>\n",
              "      <td>British TV Shows, TV Comedies</td>\n",
              "      <td>TV star David Hasselhoff hopes to reboot his c...</td>\n",
              "    </tr>\n",
              "    <tr>\n",
              "      <th>3752</th>\n",
              "      <td>81059388</td>\n",
              "      <td>Movie</td>\n",
              "      <td>Incredibles 2 (Spanish Version)</td>\n",
              "      <td>Brad Bird</td>\n",
              "      <td>Víctor Trujillo, Consuelo Duval, Darío T. Pie,...</td>\n",
              "      <td>United States</td>\n",
              "      <td>February 8, 2019</td>\n",
              "      <td>2018</td>\n",
              "      <td>PG</td>\n",
              "      <td>118 min</td>\n",
              "      <td>Children &amp; Family Movies, Comedies</td>\n",
              "      <td>When Elastigirl gets recruited for a high-prof...</td>\n",
              "    </tr>\n",
              "    <tr>\n",
              "      <th>2773</th>\n",
              "      <td>80119249</td>\n",
              "      <td>Movie</td>\n",
              "      <td>1 Mile to You</td>\n",
              "      <td>Leif Tilden</td>\n",
              "      <td>Billy Crudup, Graham Rogers, Liana Liberato, S...</td>\n",
              "      <td>United States</td>\n",
              "      <td>July 7, 2017</td>\n",
              "      <td>2017</td>\n",
              "      <td>TV-14</td>\n",
              "      <td>105 min</td>\n",
              "      <td>Dramas, Romantic Movies, Sports Movies</td>\n",
              "      <td>After escaping the bus accident that killed hi...</td>\n",
              "    </tr>\n",
              "    <tr>\n",
              "      <th>3000</th>\n",
              "      <td>70301023</td>\n",
              "      <td>Movie</td>\n",
              "      <td>Tom Segura: Completely Normal</td>\n",
              "      <td>Jay Chapman</td>\n",
              "      <td>Tom Segura</td>\n",
              "      <td>United States</td>\n",
              "      <td>July 13, 2017</td>\n",
              "      <td>2014</td>\n",
              "      <td>TV-MA</td>\n",
              "      <td>74 min</td>\n",
              "      <td>Stand-Up Comedy</td>\n",
              "      <td>Levelheaded stand-up Tom Segura shares offhand...</td>\n",
              "    </tr>\n",
              "    <tr>\n",
              "      <th>1492</th>\n",
              "      <td>70108590</td>\n",
              "      <td>Movie</td>\n",
              "      <td>Welcome to Sajjanpur</td>\n",
              "      <td>Shyam Benegal</td>\n",
              "      <td>Shreyas Talpade, Amrita Rao, Ravi Kishan, Ila ...</td>\n",
              "      <td>India</td>\n",
              "      <td>November 1, 2018</td>\n",
              "      <td>2008</td>\n",
              "      <td>TV-PG</td>\n",
              "      <td>131 min</td>\n",
              "      <td>Comedies, Dramas, International Movies</td>\n",
              "      <td>An educated man assists the illiterate residen...</td>\n",
              "    </tr>\n",
              "    <tr>\n",
              "      <th>4606</th>\n",
              "      <td>80039517</td>\n",
              "      <td>Movie</td>\n",
              "      <td>The Ridiculous 6</td>\n",
              "      <td>Frank Coraci</td>\n",
              "      <td>Adam Sandler, Terry Crews, Jorge Garcia, Taylo...</td>\n",
              "      <td>United States</td>\n",
              "      <td>December 11, 2015</td>\n",
              "      <td>2015</td>\n",
              "      <td>TV-14</td>\n",
              "      <td>120 min</td>\n",
              "      <td>Action &amp; Adventure, Comedies</td>\n",
              "      <td>When his outlaw dad is kidnapped, Tommy “White...</td>\n",
              "    </tr>\n",
              "    <tr>\n",
              "      <th>217</th>\n",
              "      <td>81030342</td>\n",
              "      <td>Movie</td>\n",
              "      <td>Los Tigres del Norte at Folsom Prison</td>\n",
              "      <td>Tom Donahue</td>\n",
              "      <td>Los Tigres del Norte</td>\n",
              "      <td>United States</td>\n",
              "      <td>September 15, 2019</td>\n",
              "      <td>2019</td>\n",
              "      <td>TV-PG</td>\n",
              "      <td>64 min</td>\n",
              "      <td>Documentaries, International Movies, Music &amp; M...</td>\n",
              "      <td>The beloved norteño band Los Tigres del Norte ...</td>\n",
              "    </tr>\n",
              "    <tr>\n",
              "      <th>2612</th>\n",
              "      <td>80160814</td>\n",
              "      <td>Movie</td>\n",
              "      <td>The Incident</td>\n",
              "      <td>Isaac Ezban</td>\n",
              "      <td>Raúl Méndez, Nailea Norvind, Hernán Mendoza, H...</td>\n",
              "      <td>Mexico</td>\n",
              "      <td>June 19, 2017</td>\n",
              "      <td>2014</td>\n",
              "      <td>TV-MA</td>\n",
              "      <td>100 min</td>\n",
              "      <td>International Movies, Sci-Fi &amp; Fantasy, Thrillers</td>\n",
              "      <td>Two criminals race down a stairwell, a cop clo...</td>\n",
              "    </tr>\n",
              "  </tbody>\n",
              "</table>\n",
              "</div>\n",
              "      <button class=\"colab-df-convert\" onclick=\"convertToInteractive('df-8143d3f7-f444-4017-ba98-fe1574fd7402')\"\n",
              "              title=\"Convert this dataframe to an interactive table.\"\n",
              "              style=\"display:none;\">\n",
              "        \n",
              "  <svg xmlns=\"http://www.w3.org/2000/svg\" height=\"24px\"viewBox=\"0 0 24 24\"\n",
              "       width=\"24px\">\n",
              "    <path d=\"M0 0h24v24H0V0z\" fill=\"none\"/>\n",
              "    <path d=\"M18.56 5.44l.94 2.06.94-2.06 2.06-.94-2.06-.94-.94-2.06-.94 2.06-2.06.94zm-11 1L8.5 8.5l.94-2.06 2.06-.94-2.06-.94L8.5 2.5l-.94 2.06-2.06.94zm10 10l.94 2.06.94-2.06 2.06-.94-2.06-.94-.94-2.06-.94 2.06-2.06.94z\"/><path d=\"M17.41 7.96l-1.37-1.37c-.4-.4-.92-.59-1.43-.59-.52 0-1.04.2-1.43.59L10.3 9.45l-7.72 7.72c-.78.78-.78 2.05 0 2.83L4 21.41c.39.39.9.59 1.41.59.51 0 1.02-.2 1.41-.59l7.78-7.78 2.81-2.81c.8-.78.8-2.07 0-2.86zM5.41 20L4 18.59l7.72-7.72 1.47 1.35L5.41 20z\"/>\n",
              "  </svg>\n",
              "      </button>\n",
              "      \n",
              "  <style>\n",
              "    .colab-df-container {\n",
              "      display:flex;\n",
              "      flex-wrap:wrap;\n",
              "      gap: 12px;\n",
              "    }\n",
              "\n",
              "    .colab-df-convert {\n",
              "      background-color: #E8F0FE;\n",
              "      border: none;\n",
              "      border-radius: 50%;\n",
              "      cursor: pointer;\n",
              "      display: none;\n",
              "      fill: #1967D2;\n",
              "      height: 32px;\n",
              "      padding: 0 0 0 0;\n",
              "      width: 32px;\n",
              "    }\n",
              "\n",
              "    .colab-df-convert:hover {\n",
              "      background-color: #E2EBFA;\n",
              "      box-shadow: 0px 1px 2px rgba(60, 64, 67, 0.3), 0px 1px 3px 1px rgba(60, 64, 67, 0.15);\n",
              "      fill: #174EA6;\n",
              "    }\n",
              "\n",
              "    [theme=dark] .colab-df-convert {\n",
              "      background-color: #3B4455;\n",
              "      fill: #D2E3FC;\n",
              "    }\n",
              "\n",
              "    [theme=dark] .colab-df-convert:hover {\n",
              "      background-color: #434B5C;\n",
              "      box-shadow: 0px 1px 3px 1px rgba(0, 0, 0, 0.15);\n",
              "      filter: drop-shadow(0px 1px 2px rgba(0, 0, 0, 0.3));\n",
              "      fill: #FFFFFF;\n",
              "    }\n",
              "  </style>\n",
              "\n",
              "      <script>\n",
              "        const buttonEl =\n",
              "          document.querySelector('#df-8143d3f7-f444-4017-ba98-fe1574fd7402 button.colab-df-convert');\n",
              "        buttonEl.style.display =\n",
              "          google.colab.kernel.accessAllowed ? 'block' : 'none';\n",
              "\n",
              "        async function convertToInteractive(key) {\n",
              "          const element = document.querySelector('#df-8143d3f7-f444-4017-ba98-fe1574fd7402');\n",
              "          const dataTable =\n",
              "            await google.colab.kernel.invokeFunction('convertToInteractive',\n",
              "                                                     [key], {});\n",
              "          if (!dataTable) return;\n",
              "\n",
              "          const docLinkHtml = 'Like what you see? Visit the ' +\n",
              "            '<a target=\"_blank\" href=https://colab.research.google.com/notebooks/data_table.ipynb>data table notebook</a>'\n",
              "            + ' to learn more about interactive tables.';\n",
              "          element.innerHTML = '';\n",
              "          dataTable['output_type'] = 'display_data';\n",
              "          await google.colab.output.renderOutput(dataTable, element);\n",
              "          const docLink = document.createElement('div');\n",
              "          docLink.innerHTML = docLinkHtml;\n",
              "          element.appendChild(docLink);\n",
              "        }\n",
              "      </script>\n",
              "    </div>\n",
              "  </div>\n",
              "  "
            ]
          },
          "metadata": {},
          "execution_count": 19
        }
      ]
    },
    {
      "cell_type": "markdown",
      "source": [
        "Convert Date Time Format"
      ],
      "metadata": {
        "id": "u8gEV-9GL-Xa"
      }
    },
    {
      "cell_type": "code",
      "source": [
        "df['date_added'] = pd.to_datetime(df['date_added'])\n",
        "df['day_added'] = df['date_added'].dt.day\n",
        "df['year_added'] = df['date_added'].dt.year\n",
        "df['month_added']=df['date_added'].dt.month\n",
        "df['year_added'].astype(int);\n",
        "df['day_added'].astype(int);"
      ],
      "metadata": {
        "id": "ibArlZCNLghb"
      },
      "execution_count": null,
      "outputs": []
    },
    {
      "cell_type": "code",
      "source": [
        "df.sample(10)"
      ],
      "metadata": {
        "colab": {
          "base_uri": "https://localhost:8080/",
          "height": 962
        },
        "id": "IT5_JzcdNEC6",
        "outputId": "d104ace4-3586-4240-9fc9-4101fedc0738"
      },
      "execution_count": null,
      "outputs": [
        {
          "output_type": "execute_result",
          "data": {
            "text/plain": [
              "       show_id     type                      title  \\\n",
              "5349  80174687    Movie  Kevin Hart: Irresponsible   \n",
              "239   81018238    Movie                 Samantaral   \n",
              "4352  81000505    Movie                  Fireworks   \n",
              "4062  80234290  TV Show           Revolting Rhymes   \n",
              "3947  80216820    Movie                Never Heard   \n",
              "2496  80109145    Movie                   Headshot   \n",
              "2861  80037478    Movie        The End of the Tour   \n",
              "740   80164456    Movie             The Babysitter   \n",
              "4500  70134537    Movie    Karthik Calling Karthik   \n",
              "3409  80156940    Movie             Pyar Ke Do Pal   \n",
              "\n",
              "                               director  \\\n",
              "5349                       Leslie Small   \n",
              "239                  Partha Chakraborty   \n",
              "4352  Akiyuki Shinbo, Nobuyuki Takeuchi   \n",
              "4062         Jani Lachauer, Jakob Schuh   \n",
              "3947                        Josh Webber   \n",
              "2496      Timo Tjahjanto, Kimo Stamboel   \n",
              "2861                     James Ponsoldt   \n",
              "740                                 McG   \n",
              "4500                      Vijay Lalwani   \n",
              "3409                        Rajiv Mehra   \n",
              "\n",
              "                                                   cast         country  \\\n",
              "5349                                         Kevin Hart   United States   \n",
              "239   Riddhi Sen, Parambrata Chatterjee, Soumitra Ch...           India   \n",
              "4352  Yuki Kaji, Nobuo Tobita, Michiko Neya, Mitsuru...           Japan   \n",
              "4062  Rob Brydon, Bertie Carvel, Gemma Chan, Dominic...  United Kingdom   \n",
              "3947  Romeo Miller, David Banner, Robin Givens, Karr...   United States   \n",
              "2496  Iko Uwais, Chelsea Islan, Julie Estelle, Sunny...       Indonesia   \n",
              "2861  Jason Segel, Jesse Eisenberg, Becky Ann Baker,...   United States   \n",
              "740   Samara Weaving, Hana Mae Lee, Judah Lewis, Rob...   United States   \n",
              "4500  Farhan Akhtar, Deepika Padukone, Ram Kapoor, V...           India   \n",
              "3409  Mithun Chakraborty, Jayapradha, Simple Kapadia...           India   \n",
              "\n",
              "     date_added  release_year rating  duration  \\\n",
              "5349 2019-04-02          2019  TV-MA    60 min   \n",
              "239  2018-09-15          2017  TV-MA   110 min   \n",
              "4352 2019-12-25          2017  TV-PG    91 min   \n",
              "4062 2018-02-01          2017  TV-PG  1 Season   \n",
              "3947 2019-02-15          2018  TV-14    89 min   \n",
              "2496 2017-06-03          2016  TV-MA   119 min   \n",
              "2861 2018-07-26          2015      R   106 min   \n",
              "740  2017-10-13          2017  TV-MA    85 min   \n",
              "4500 2019-12-15          2010  TV-14   135 min   \n",
              "3409 2018-01-15          1986  TV-PG   153 min   \n",
              "\n",
              "                                           listed_in  \\\n",
              "5349                                 Stand-Up Comedy   \n",
              "239                     Dramas, International Movies   \n",
              "4352                 Anime Features, Romantic Movies   \n",
              "4062                      British TV Shows, Kids' TV   \n",
              "3947                    Dramas, Faith & Spirituality   \n",
              "2496        Action & Adventure, International Movies   \n",
              "2861                      Dramas, Independent Movies   \n",
              "740                          Comedies, Horror Movies   \n",
              "4500         Dramas, International Movies, Thrillers   \n",
              "3409  Dramas, International Movies, Music & Musicals   \n",
              "\n",
              "                                            description  day_added  \\\n",
              "5349  As a father of three on his second marriage, K...          2   \n",
              "239   On a family visit, a young man and his girlfri...         15   \n",
              "4352  Middle schooler Nazuna desperately wants to ru...         25   \n",
              "4062  Popular fairy tales take on a darkly comic edg...          1   \n",
              "3947  As his father sits behind bars, a young man is...         15   \n",
              "2496  When a young man wakes from a coma, memories o...          3   \n",
              "2861  \"Rolling Stone\" reporter David Lipsky shadows ...         26   \n",
              "740   When Cole stays up past his bedtime, he discov...         13   \n",
              "4500  Unlucky in love and bullied at work, an office...         15   \n",
              "3409  Twins separated by a court order meet at camp ...         15   \n",
              "\n",
              "      year_added  month_added  \n",
              "5349        2019            4  \n",
              "239         2018            9  \n",
              "4352        2019           12  \n",
              "4062        2018            2  \n",
              "3947        2019            2  \n",
              "2496        2017            6  \n",
              "2861        2018            7  \n",
              "740         2017           10  \n",
              "4500        2019           12  \n",
              "3409        2018            1  "
            ],
            "text/html": [
              "\n",
              "  <div id=\"df-fc144615-4e32-43f2-94f4-92dc2d96467f\">\n",
              "    <div class=\"colab-df-container\">\n",
              "      <div>\n",
              "<style scoped>\n",
              "    .dataframe tbody tr th:only-of-type {\n",
              "        vertical-align: middle;\n",
              "    }\n",
              "\n",
              "    .dataframe tbody tr th {\n",
              "        vertical-align: top;\n",
              "    }\n",
              "\n",
              "    .dataframe thead th {\n",
              "        text-align: right;\n",
              "    }\n",
              "</style>\n",
              "<table border=\"1\" class=\"dataframe\">\n",
              "  <thead>\n",
              "    <tr style=\"text-align: right;\">\n",
              "      <th></th>\n",
              "      <th>show_id</th>\n",
              "      <th>type</th>\n",
              "      <th>title</th>\n",
              "      <th>director</th>\n",
              "      <th>cast</th>\n",
              "      <th>country</th>\n",
              "      <th>date_added</th>\n",
              "      <th>release_year</th>\n",
              "      <th>rating</th>\n",
              "      <th>duration</th>\n",
              "      <th>listed_in</th>\n",
              "      <th>description</th>\n",
              "      <th>day_added</th>\n",
              "      <th>year_added</th>\n",
              "      <th>month_added</th>\n",
              "    </tr>\n",
              "  </thead>\n",
              "  <tbody>\n",
              "    <tr>\n",
              "      <th>5349</th>\n",
              "      <td>80174687</td>\n",
              "      <td>Movie</td>\n",
              "      <td>Kevin Hart: Irresponsible</td>\n",
              "      <td>Leslie Small</td>\n",
              "      <td>Kevin Hart</td>\n",
              "      <td>United States</td>\n",
              "      <td>2019-04-02</td>\n",
              "      <td>2019</td>\n",
              "      <td>TV-MA</td>\n",
              "      <td>60 min</td>\n",
              "      <td>Stand-Up Comedy</td>\n",
              "      <td>As a father of three on his second marriage, K...</td>\n",
              "      <td>2</td>\n",
              "      <td>2019</td>\n",
              "      <td>4</td>\n",
              "    </tr>\n",
              "    <tr>\n",
              "      <th>239</th>\n",
              "      <td>81018238</td>\n",
              "      <td>Movie</td>\n",
              "      <td>Samantaral</td>\n",
              "      <td>Partha Chakraborty</td>\n",
              "      <td>Riddhi Sen, Parambrata Chatterjee, Soumitra Ch...</td>\n",
              "      <td>India</td>\n",
              "      <td>2018-09-15</td>\n",
              "      <td>2017</td>\n",
              "      <td>TV-MA</td>\n",
              "      <td>110 min</td>\n",
              "      <td>Dramas, International Movies</td>\n",
              "      <td>On a family visit, a young man and his girlfri...</td>\n",
              "      <td>15</td>\n",
              "      <td>2018</td>\n",
              "      <td>9</td>\n",
              "    </tr>\n",
              "    <tr>\n",
              "      <th>4352</th>\n",
              "      <td>81000505</td>\n",
              "      <td>Movie</td>\n",
              "      <td>Fireworks</td>\n",
              "      <td>Akiyuki Shinbo, Nobuyuki Takeuchi</td>\n",
              "      <td>Yuki Kaji, Nobuo Tobita, Michiko Neya, Mitsuru...</td>\n",
              "      <td>Japan</td>\n",
              "      <td>2019-12-25</td>\n",
              "      <td>2017</td>\n",
              "      <td>TV-PG</td>\n",
              "      <td>91 min</td>\n",
              "      <td>Anime Features, Romantic Movies</td>\n",
              "      <td>Middle schooler Nazuna desperately wants to ru...</td>\n",
              "      <td>25</td>\n",
              "      <td>2019</td>\n",
              "      <td>12</td>\n",
              "    </tr>\n",
              "    <tr>\n",
              "      <th>4062</th>\n",
              "      <td>80234290</td>\n",
              "      <td>TV Show</td>\n",
              "      <td>Revolting Rhymes</td>\n",
              "      <td>Jani Lachauer, Jakob Schuh</td>\n",
              "      <td>Rob Brydon, Bertie Carvel, Gemma Chan, Dominic...</td>\n",
              "      <td>United Kingdom</td>\n",
              "      <td>2018-02-01</td>\n",
              "      <td>2017</td>\n",
              "      <td>TV-PG</td>\n",
              "      <td>1 Season</td>\n",
              "      <td>British TV Shows, Kids' TV</td>\n",
              "      <td>Popular fairy tales take on a darkly comic edg...</td>\n",
              "      <td>1</td>\n",
              "      <td>2018</td>\n",
              "      <td>2</td>\n",
              "    </tr>\n",
              "    <tr>\n",
              "      <th>3947</th>\n",
              "      <td>80216820</td>\n",
              "      <td>Movie</td>\n",
              "      <td>Never Heard</td>\n",
              "      <td>Josh Webber</td>\n",
              "      <td>Romeo Miller, David Banner, Robin Givens, Karr...</td>\n",
              "      <td>United States</td>\n",
              "      <td>2019-02-15</td>\n",
              "      <td>2018</td>\n",
              "      <td>TV-14</td>\n",
              "      <td>89 min</td>\n",
              "      <td>Dramas, Faith &amp; Spirituality</td>\n",
              "      <td>As his father sits behind bars, a young man is...</td>\n",
              "      <td>15</td>\n",
              "      <td>2019</td>\n",
              "      <td>2</td>\n",
              "    </tr>\n",
              "    <tr>\n",
              "      <th>2496</th>\n",
              "      <td>80109145</td>\n",
              "      <td>Movie</td>\n",
              "      <td>Headshot</td>\n",
              "      <td>Timo Tjahjanto, Kimo Stamboel</td>\n",
              "      <td>Iko Uwais, Chelsea Islan, Julie Estelle, Sunny...</td>\n",
              "      <td>Indonesia</td>\n",
              "      <td>2017-06-03</td>\n",
              "      <td>2016</td>\n",
              "      <td>TV-MA</td>\n",
              "      <td>119 min</td>\n",
              "      <td>Action &amp; Adventure, International Movies</td>\n",
              "      <td>When a young man wakes from a coma, memories o...</td>\n",
              "      <td>3</td>\n",
              "      <td>2017</td>\n",
              "      <td>6</td>\n",
              "    </tr>\n",
              "    <tr>\n",
              "      <th>2861</th>\n",
              "      <td>80037478</td>\n",
              "      <td>Movie</td>\n",
              "      <td>The End of the Tour</td>\n",
              "      <td>James Ponsoldt</td>\n",
              "      <td>Jason Segel, Jesse Eisenberg, Becky Ann Baker,...</td>\n",
              "      <td>United States</td>\n",
              "      <td>2018-07-26</td>\n",
              "      <td>2015</td>\n",
              "      <td>R</td>\n",
              "      <td>106 min</td>\n",
              "      <td>Dramas, Independent Movies</td>\n",
              "      <td>\"Rolling Stone\" reporter David Lipsky shadows ...</td>\n",
              "      <td>26</td>\n",
              "      <td>2018</td>\n",
              "      <td>7</td>\n",
              "    </tr>\n",
              "    <tr>\n",
              "      <th>740</th>\n",
              "      <td>80164456</td>\n",
              "      <td>Movie</td>\n",
              "      <td>The Babysitter</td>\n",
              "      <td>McG</td>\n",
              "      <td>Samara Weaving, Hana Mae Lee, Judah Lewis, Rob...</td>\n",
              "      <td>United States</td>\n",
              "      <td>2017-10-13</td>\n",
              "      <td>2017</td>\n",
              "      <td>TV-MA</td>\n",
              "      <td>85 min</td>\n",
              "      <td>Comedies, Horror Movies</td>\n",
              "      <td>When Cole stays up past his bedtime, he discov...</td>\n",
              "      <td>13</td>\n",
              "      <td>2017</td>\n",
              "      <td>10</td>\n",
              "    </tr>\n",
              "    <tr>\n",
              "      <th>4500</th>\n",
              "      <td>70134537</td>\n",
              "      <td>Movie</td>\n",
              "      <td>Karthik Calling Karthik</td>\n",
              "      <td>Vijay Lalwani</td>\n",
              "      <td>Farhan Akhtar, Deepika Padukone, Ram Kapoor, V...</td>\n",
              "      <td>India</td>\n",
              "      <td>2019-12-15</td>\n",
              "      <td>2010</td>\n",
              "      <td>TV-14</td>\n",
              "      <td>135 min</td>\n",
              "      <td>Dramas, International Movies, Thrillers</td>\n",
              "      <td>Unlucky in love and bullied at work, an office...</td>\n",
              "      <td>15</td>\n",
              "      <td>2019</td>\n",
              "      <td>12</td>\n",
              "    </tr>\n",
              "    <tr>\n",
              "      <th>3409</th>\n",
              "      <td>80156940</td>\n",
              "      <td>Movie</td>\n",
              "      <td>Pyar Ke Do Pal</td>\n",
              "      <td>Rajiv Mehra</td>\n",
              "      <td>Mithun Chakraborty, Jayapradha, Simple Kapadia...</td>\n",
              "      <td>India</td>\n",
              "      <td>2018-01-15</td>\n",
              "      <td>1986</td>\n",
              "      <td>TV-PG</td>\n",
              "      <td>153 min</td>\n",
              "      <td>Dramas, International Movies, Music &amp; Musicals</td>\n",
              "      <td>Twins separated by a court order meet at camp ...</td>\n",
              "      <td>15</td>\n",
              "      <td>2018</td>\n",
              "      <td>1</td>\n",
              "    </tr>\n",
              "  </tbody>\n",
              "</table>\n",
              "</div>\n",
              "      <button class=\"colab-df-convert\" onclick=\"convertToInteractive('df-fc144615-4e32-43f2-94f4-92dc2d96467f')\"\n",
              "              title=\"Convert this dataframe to an interactive table.\"\n",
              "              style=\"display:none;\">\n",
              "        \n",
              "  <svg xmlns=\"http://www.w3.org/2000/svg\" height=\"24px\"viewBox=\"0 0 24 24\"\n",
              "       width=\"24px\">\n",
              "    <path d=\"M0 0h24v24H0V0z\" fill=\"none\"/>\n",
              "    <path d=\"M18.56 5.44l.94 2.06.94-2.06 2.06-.94-2.06-.94-.94-2.06-.94 2.06-2.06.94zm-11 1L8.5 8.5l.94-2.06 2.06-.94-2.06-.94L8.5 2.5l-.94 2.06-2.06.94zm10 10l.94 2.06.94-2.06 2.06-.94-2.06-.94-.94-2.06-.94 2.06-2.06.94z\"/><path d=\"M17.41 7.96l-1.37-1.37c-.4-.4-.92-.59-1.43-.59-.52 0-1.04.2-1.43.59L10.3 9.45l-7.72 7.72c-.78.78-.78 2.05 0 2.83L4 21.41c.39.39.9.59 1.41.59.51 0 1.02-.2 1.41-.59l7.78-7.78 2.81-2.81c.8-.78.8-2.07 0-2.86zM5.41 20L4 18.59l7.72-7.72 1.47 1.35L5.41 20z\"/>\n",
              "  </svg>\n",
              "      </button>\n",
              "      \n",
              "  <style>\n",
              "    .colab-df-container {\n",
              "      display:flex;\n",
              "      flex-wrap:wrap;\n",
              "      gap: 12px;\n",
              "    }\n",
              "\n",
              "    .colab-df-convert {\n",
              "      background-color: #E8F0FE;\n",
              "      border: none;\n",
              "      border-radius: 50%;\n",
              "      cursor: pointer;\n",
              "      display: none;\n",
              "      fill: #1967D2;\n",
              "      height: 32px;\n",
              "      padding: 0 0 0 0;\n",
              "      width: 32px;\n",
              "    }\n",
              "\n",
              "    .colab-df-convert:hover {\n",
              "      background-color: #E2EBFA;\n",
              "      box-shadow: 0px 1px 2px rgba(60, 64, 67, 0.3), 0px 1px 3px 1px rgba(60, 64, 67, 0.15);\n",
              "      fill: #174EA6;\n",
              "    }\n",
              "\n",
              "    [theme=dark] .colab-df-convert {\n",
              "      background-color: #3B4455;\n",
              "      fill: #D2E3FC;\n",
              "    }\n",
              "\n",
              "    [theme=dark] .colab-df-convert:hover {\n",
              "      background-color: #434B5C;\n",
              "      box-shadow: 0px 1px 3px 1px rgba(0, 0, 0, 0.15);\n",
              "      filter: drop-shadow(0px 1px 2px rgba(0, 0, 0, 0.3));\n",
              "      fill: #FFFFFF;\n",
              "    }\n",
              "  </style>\n",
              "\n",
              "      <script>\n",
              "        const buttonEl =\n",
              "          document.querySelector('#df-fc144615-4e32-43f2-94f4-92dc2d96467f button.colab-df-convert');\n",
              "        buttonEl.style.display =\n",
              "          google.colab.kernel.accessAllowed ? 'block' : 'none';\n",
              "\n",
              "        async function convertToInteractive(key) {\n",
              "          const element = document.querySelector('#df-fc144615-4e32-43f2-94f4-92dc2d96467f');\n",
              "          const dataTable =\n",
              "            await google.colab.kernel.invokeFunction('convertToInteractive',\n",
              "                                                     [key], {});\n",
              "          if (!dataTable) return;\n",
              "\n",
              "          const docLinkHtml = 'Like what you see? Visit the ' +\n",
              "            '<a target=\"_blank\" href=https://colab.research.google.com/notebooks/data_table.ipynb>data table notebook</a>'\n",
              "            + ' to learn more about interactive tables.';\n",
              "          element.innerHTML = '';\n",
              "          dataTable['output_type'] = 'display_data';\n",
              "          await google.colab.output.renderOutput(dataTable, element);\n",
              "          const docLink = document.createElement('div');\n",
              "          docLink.innerHTML = docLinkHtml;\n",
              "          element.appendChild(docLink);\n",
              "        }\n",
              "      </script>\n",
              "    </div>\n",
              "  </div>\n",
              "  "
            ]
          },
          "metadata": {},
          "execution_count": 26
        }
      ]
    },
    {
      "cell_type": "markdown",
      "source": [
        "#**Data Visualization**"
      ],
      "metadata": {
        "id": "ql6w1aMEOEX7"
      }
    },
    {
      "cell_type": "markdown",
      "source": [
        "### Type : Movie and TV Show"
      ],
      "metadata": {
        "id": "G-Oy2X5AOTjy"
      }
    },
    {
      "cell_type": "code",
      "source": [
        "sns.countplot(netflix['type'])\n",
        "fig = plt.gcf()\n",
        "fig.set_size_inches(10,10)\n",
        "plt.title('Type')\n"
      ],
      "metadata": {
        "colab": {
          "base_uri": "https://localhost:8080/",
          "height": 693
        },
        "id": "UoDrxJL_OS2d",
        "outputId": "a090569b-1a2a-418e-fb3b-4f5762da1bb0"
      },
      "execution_count": null,
      "outputs": [
        {
          "output_type": "stream",
          "name": "stderr",
          "text": [
            "/usr/local/lib/python3.7/dist-packages/seaborn/_decorators.py:43: FutureWarning: Pass the following variable as a keyword arg: x. From version 0.12, the only valid positional argument will be `data`, and passing other arguments without an explicit keyword will result in an error or misinterpretation.\n",
            "  FutureWarning\n"
          ]
        },
        {
          "output_type": "execute_result",
          "data": {
            "text/plain": [
              "Text(0.5, 1.0, 'Type')"
            ]
          },
          "metadata": {},
          "execution_count": 27
        },
        {
          "output_type": "display_data",
          "data": {
            "text/plain": [
              "<Figure size 720x720 with 1 Axes>"
            ],
            "image/png": "[encoded data removed]"
          },
          "metadata": {
            "needs_background": "light"
          }
        }
      ]
    },
    {
      "cell_type": "markdown",
      "source": [
        "### Rating Of Shows And Movies"
      ],
      "metadata": {
        "id": "jdh6UoaxPnLN"
      }
    },
    {
      "cell_type": "code",
      "source": [
        "sns.countplot(netflix['rating'])\n",
        "sns.countplot(netflix['rating']).set_xticklabels(sns.countplot(netflix['rating']).get_xticklabels(), rotation=90, ha=\"right\");\n",
        "fig = plt.gcf()\n",
        "fig.set_size_inches(13,13)\n",
        "plt.title('Rating');"
      ],
      "metadata": {
        "colab": {
          "base_uri": "https://localhost:8080/",
          "height": 942
        },
        "id": "6SJ42dY2PYYb",
        "outputId": "ad4e4a7d-1dee-4710-aaaa-aa91254ee1ee"
      },
      "execution_count": null,
      "outputs": [
        {
          "output_type": "stream",
          "name": "stderr",
          "text": [
            "/usr/local/lib/python3.7/dist-packages/seaborn/_decorators.py:43: FutureWarning: Pass the following variable as a keyword arg: x. From version 0.12, the only valid positional argument will be `data`, and passing other arguments without an explicit keyword will result in an error or misinterpretation.\n",
            "  FutureWarning\n",
            "/usr/local/lib/python3.7/dist-packages/seaborn/_decorators.py:43: FutureWarning: Pass the following variable as a keyword arg: x. From version 0.12, the only valid positional argument will be `data`, and passing other arguments without an explicit keyword will result in an error or misinterpretation.\n",
            "  FutureWarning\n",
            "/usr/local/lib/python3.7/dist-packages/seaborn/_decorators.py:43: FutureWarning: Pass the following variable as a keyword arg: x. From version 0.12, the only valid positional argument will be `data`, and passing other arguments without an explicit keyword will result in an error or misinterpretation.\n",
            "  FutureWarning\n"
          ]
        },
        {
          "output_type": "display_data",
          "data": {
            "text/plain": [
              "<Figure size 936x936 with 1 Axes>"
            ],
            "image/png": "[encoded data removed]"
          },
          "metadata": {
            "needs_background": "light"
          }
        }
      ]
    },
    {
      "cell_type": "markdown",
      "source": [
        "### Relation between Type and rating"
      ],
      "metadata": {
        "id": "h1dcUuy9VOJC"
      }
    },
    {
      "cell_type": "code",
      "source": [
        "plt.figure(figsize=(10,10))\n",
        "sns.countplot(x='rating',hue='type',data=netflix)\n",
        "plt.title('Relation between Type and rating')\n",
        "plt.show()"
      ],
      "metadata": {
        "colab": {
          "base_uri": "https://localhost:8080/",
          "height": 621
        },
        "id": "Aea9rZLhU6PO",
        "outputId": "5e7260d5-5e08-4612-ad5e-64cc9c5c7d3b"
      },
      "execution_count": null,
      "outputs": [
        {
          "output_type": "display_data",
          "data": {
            "text/plain": [
              "<Figure size 720x720 with 1 Axes>"
            ],
            "image/png": "[encoded data removed]"
          },
          "metadata": {
            "needs_background": "light"
          }
        }
      ]
    },
    {
      "cell_type": "markdown",
      "source": [
        "### Pie-chart for the Type: Movie and TV Shows"
      ],
      "metadata": {
        "id": "OgRTaxsqXVoV"
      }
    },
    {
      "cell_type": "code",
      "source": [
        "labels = ['Movie', 'TV show']\n",
        "size = netflix['type'].value_counts()\n",
        "colors = plt.cm.Wistia(np.linspace(0, 1, 2))\n",
        "explode = [0, 0.1]\n",
        "plt.rcParams['figure.figsize'] = (9, 9)\n",
        "plt.pie(size,labels=labels, colors = colors, explode = explode, shadow = True, startangle = 90)\n",
        "plt.title('Distribution of Type', fontsize = 25)\n",
        "plt.legend()\n",
        "plt.show()"
      ],
      "metadata": {
        "id": "wXNj3PdrWUhi",
        "colab": {
          "base_uri": "https://localhost:8080/",
          "height": 545
        },
        "outputId": "e9d9e46c-13f5-473d-dd93-71d32b0577e7"
      },
      "execution_count": null,
      "outputs": [
        {
          "output_type": "display_data",
          "data": {
            "text/plain": [
              "<Figure size 648x648 with 1 Axes>"
            ],
            "image/png": "[encoded data removed]"
          },
          "metadata": {}
        }
      ]
    },
    {
      "cell_type": "code",
      "source": [
        "netflix['rating'].value_counts().plot.pie(autopct='%1.1f%%',shadow=True,figsize=(10,8))"
      ],
      "metadata": {
        "colab": {
          "base_uri": "https://localhost:8080/",
          "height": 483
        },
        "id": "XFLsaQX2XbK8",
        "outputId": "648a9b6e-1b66-4fad-a00f-1bc7bb8eeb02"
      },
      "execution_count": null,
      "outputs": [
        {
          "output_type": "execute_result",
          "data": {
            "text/plain": [
              "<matplotlib.axes._subplots.AxesSubplot at 0x7fa654630310>"
            ]
          },
          "metadata": {},
          "execution_count": 37
        },
        {
          "output_type": "display_data",
          "data": {
            "text/plain": [
              "<Figure size 720x576 with 1 Axes>"
            ],
            "image/png": "[encoded data removed]"
          },
          "metadata": {}
        }
      ]
    },
    {
      "cell_type": "code",
      "source": [],
      "metadata": {
        "id": "mvbUpyHJYOIc"
      },
      "execution_count": null,
      "outputs": []
    }
  ],
  "metadata": {
    "colab": {
      "provenance": [],
      "collapsed_sections": [],
      "mount_file_id": "1deDSim8pcKmys1DxmPGTc2kZVRtuIf9q",
      "authorship_tag": "ABX9TyPZIXLqDjpjAuf2Gx49krJS",
      "include_colab_link": true
    },
    "kernelspec": {
      "display_name": "Python 3",
      "name": "python3"
    },
    "language_info": {
      "name": "python"
    }
  },
  "nbformat": 4,
  "nbformat_minor": 0
}