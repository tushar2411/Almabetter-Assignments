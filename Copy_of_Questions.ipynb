{
  "nbformat": 4,
  "nbformat_minor": 0,
  "metadata": {
    "colab": {
      "provenance": [],
      "include_colab_link": true
    },
    "kernelspec": {
      "name": "python3",
      "display_name": "Python 3"
    },
    "language_info": {
      "name": "python"
    }
  },
  "cells": [
    {
      "cell_type": "markdown",
      "metadata": {
        "id": "view-in-github",
        "colab_type": "text"
      },
      "source": [
        "<a href=\"https://colab.research.google.com/github/tushar2411/Almabetter-Assignments/blob/main/Copy_of_Questions.ipynb\" target=\"_parent\"><img src=\"https://colab.research.google.com/assets/colab-badge.svg\" alt=\"Open In Colab\"/></a>"
      ]
    },
    {
      "cell_type": "code",
      "execution_count": null,
      "metadata": {
        "colab": {
          "base_uri": "https://localhost:8080/"
        },
        "id": "4ZgaWrKSVhkB",
        "outputId": "40b89189-b0b9-459f-93b6-ae51f3f7a89a"
      },
      "outputs": [
        {
          "output_type": "stream",
          "name": "stdout",
          "text": [
            "54321\n"
          ]
        }
      ],
      "source": [
        "# question 1 revrsed a number\n",
        "a = 12345\n",
        "print(str(a)[::-1])"
      ]
    },
    {
      "cell_type": "code",
      "source": [
        "#question 2 find 2nd largest number in list\n",
        "a = [12, 34, 120 ,65, 78 ,100]\n",
        "sorted_list = sorted(a)\n",
        "print(sorted_list)"
      ],
      "metadata": {
        "colab": {
          "base_uri": "https://localhost:8080/"
        },
        "id": "z9zzLOBnVpvp",
        "outputId": "7bbd3d20-69f3-49ca-c8aa-0cc153de0830"
      },
      "execution_count": null,
      "outputs": [
        {
          "output_type": "stream",
          "name": "stdout",
          "text": [
            "[12, 34, 65, 78, 100, 120]\n"
          ]
        }
      ]
    },
    {
      "cell_type": "code",
      "source": [
        "second_largest_number = sorted_list[-2]\n",
        "print(second_largest_number)"
      ],
      "metadata": {
        "colab": {
          "base_uri": "https://localhost:8080/"
        },
        "id": "Rknr8jIOWsaA",
        "outputId": "ddc0a75b-4a19-49f1-a772-75444c78523e"
      },
      "execution_count": null,
      "outputs": [
        {
          "output_type": "stream",
          "name": "stdout",
          "text": [
            "100\n"
          ]
        }
      ]
    },
    {
      "cell_type": "code",
      "source": [
        "# question 3 write python programme to find all odd numbers in given range\n",
        "given_range = list(range(1,100,1))\n",
        "print(given_range)"
      ],
      "metadata": {
        "colab": {
          "base_uri": "https://localhost:8080/"
        },
        "id": "iTzwEIBgbsuM",
        "outputId": "c4ab7d81-4f12-4e41-c6fa-be8a2c747f31"
      },
      "execution_count": null,
      "outputs": [
        {
          "output_type": "stream",
          "name": "stdout",
          "text": [
            "[1, 2, 3, 4, 5, 6, 7, 8, 9, 10, 11, 12, 13, 14, 15, 16, 17, 18, 19, 20, 21, 22, 23, 24, 25, 26, 27, 28, 29, 30, 31, 32, 33, 34, 35, 36, 37, 38, 39, 40, 41, 42, 43, 44, 45, 46, 47, 48, 49, 50, 51, 52, 53, 54, 55, 56, 57, 58, 59, 60, 61, 62, 63, 64, 65, 66, 67, 68, 69, 70, 71, 72, 73, 74, 75, 76, 77, 78, 79, 80, 81, 82, 83, 84, 85, 86, 87, 88, 89, 90, 91, 92, 93, 94, 95, 96, 97, 98, 99]\n"
          ]
        }
      ]
    },
    {
      "cell_type": "code",
      "source": [
        "for num in given_range:\n",
        "  if num%2 != 0:\n",
        "    print(num)"
      ],
      "metadata": {
        "colab": {
          "base_uri": "https://localhost:8080/"
        },
        "id": "BUBtqz6xc9eY",
        "outputId": "ffcbe76f-7912-4aa2-c9a9-440af19d9917"
      },
      "execution_count": null,
      "outputs": [
        {
          "output_type": "stream",
          "name": "stdout",
          "text": [
            "1\n",
            "3\n",
            "5\n",
            "7\n",
            "9\n",
            "11\n",
            "13\n",
            "15\n",
            "17\n",
            "19\n",
            "21\n",
            "23\n",
            "25\n",
            "27\n",
            "29\n",
            "31\n",
            "33\n",
            "35\n",
            "37\n",
            "39\n",
            "41\n",
            "43\n",
            "45\n",
            "47\n",
            "49\n",
            "51\n",
            "53\n",
            "55\n",
            "57\n",
            "59\n",
            "61\n",
            "63\n",
            "65\n",
            "67\n",
            "69\n",
            "71\n",
            "73\n",
            "75\n",
            "77\n",
            "79\n",
            "81\n",
            "83\n",
            "85\n",
            "87\n",
            "89\n",
            "91\n",
            "93\n",
            "95\n",
            "97\n",
            "99\n"
          ]
        }
      ]
    },
    {
      "cell_type": "code",
      "source": [
        "import pandas as pd"
      ],
      "metadata": {
        "id": "2j3DQQifelyd"
      },
      "execution_count": null,
      "outputs": []
    },
    {
      "cell_type": "code",
      "source": [
        "# question 4 rename the column name of dataframe\n",
        "#lets create a dataframe \n",
        "# 1st create dictionary\n",
        "data = {'civil':['shreyash','abc','cde'],\n",
        "        'it':['xyz','cvb','dvd']}"
      ],
      "metadata": {
        "id": "9PPYHPw0v572"
      },
      "execution_count": null,
      "outputs": []
    },
    {
      "cell_type": "code",
      "source": [
        "# convert dictionary into dataframe\n",
        "df= pd.DataFrame(data)\n",
        "df"
      ],
      "metadata": {
        "colab": {
          "base_uri": "https://localhost:8080/",
          "height": 143
        },
        "id": "mZ3QdzzkwV4O",
        "outputId": "002de9af-afb7-4d68-dc48-b76787d0dd85"
      },
      "execution_count": null,
      "outputs": [
        {
          "output_type": "execute_result",
          "data": {
            "text/plain": [
              "      civil   it\n",
              "0  shreyash  xyz\n",
              "1       abc  cvb\n",
              "2       cde  dvd"
            ],
            "text/html": [
              "\n",
              "  <div id=\"df-89dc6261-159b-4801-a7f0-009e1f6bd6dd\">\n",
              "    <div class=\"colab-df-container\">\n",
              "      <div>\n",
              "<style scoped>\n",
              "    .dataframe tbody tr th:only-of-type {\n",
              "        vertical-align: middle;\n",
              "    }\n",
              "\n",
              "    .dataframe tbody tr th {\n",
              "        vertical-align: top;\n",
              "    }\n",
              "\n",
              "    .dataframe thead th {\n",
              "        text-align: right;\n",
              "    }\n",
              "</style>\n",
              "<table border=\"1\" class=\"dataframe\">\n",
              "  <thead>\n",
              "    <tr style=\"text-align: right;\">\n",
              "      <th></th>\n",
              "      <th>civil</th>\n",
              "      <th>it</th>\n",
              "    </tr>\n",
              "  </thead>\n",
              "  <tbody>\n",
              "    <tr>\n",
              "      <th>0</th>\n",
              "      <td>shreyash</td>\n",
              "      <td>xyz</td>\n",
              "    </tr>\n",
              "    <tr>\n",
              "      <th>1</th>\n",
              "      <td>abc</td>\n",
              "      <td>cvb</td>\n",
              "    </tr>\n",
              "    <tr>\n",
              "      <th>2</th>\n",
              "      <td>cde</td>\n",
              "      <td>dvd</td>\n",
              "    </tr>\n",
              "  </tbody>\n",
              "</table>\n",
              "</div>\n",
              "      <button class=\"colab-df-convert\" onclick=\"convertToInteractive('df-89dc6261-159b-4801-a7f0-009e1f6bd6dd')\"\n",
              "              title=\"Convert this dataframe to an interactive table.\"\n",
              "              style=\"display:none;\">\n",
              "        \n",
              "  <svg xmlns=\"http://www.w3.org/2000/svg\" height=\"24px\"viewBox=\"0 0 24 24\"\n",
              "       width=\"24px\">\n",
              "    <path d=\"M0 0h24v24H0V0z\" fill=\"none\"/>\n",
              "    <path d=\"M18.56 5.44l.94 2.06.94-2.06 2.06-.94-2.06-.94-.94-2.06-.94 2.06-2.06.94zm-11 1L8.5 8.5l.94-2.06 2.06-.94-2.06-.94L8.5 2.5l-.94 2.06-2.06.94zm10 10l.94 2.06.94-2.06 2.06-.94-2.06-.94-.94-2.06-.94 2.06-2.06.94z\"/><path d=\"M17.41 7.96l-1.37-1.37c-.4-.4-.92-.59-1.43-.59-.52 0-1.04.2-1.43.59L10.3 9.45l-7.72 7.72c-.78.78-.78 2.05 0 2.83L4 21.41c.39.39.9.59 1.41.59.51 0 1.02-.2 1.41-.59l7.78-7.78 2.81-2.81c.8-.78.8-2.07 0-2.86zM5.41 20L4 18.59l7.72-7.72 1.47 1.35L5.41 20z\"/>\n",
              "  </svg>\n",
              "      </button>\n",
              "      \n",
              "  <style>\n",
              "    .colab-df-container {\n",
              "      display:flex;\n",
              "      flex-wrap:wrap;\n",
              "      gap: 12px;\n",
              "    }\n",
              "\n",
              "    .colab-df-convert {\n",
              "      background-color: #E8F0FE;\n",
              "      border: none;\n",
              "      border-radius: 50%;\n",
              "      cursor: pointer;\n",
              "      display: none;\n",
              "      fill: #1967D2;\n",
              "      height: 32px;\n",
              "      padding: 0 0 0 0;\n",
              "      width: 32px;\n",
              "    }\n",
              "\n",
              "    .colab-df-convert:hover {\n",
              "      background-color: #E2EBFA;\n",
              "      box-shadow: 0px 1px 2px rgba(60, 64, 67, 0.3), 0px 1px 3px 1px rgba(60, 64, 67, 0.15);\n",
              "      fill: #174EA6;\n",
              "    }\n",
              "\n",
              "    [theme=dark] .colab-df-convert {\n",
              "      background-color: #3B4455;\n",
              "      fill: #D2E3FC;\n",
              "    }\n",
              "\n",
              "    [theme=dark] .colab-df-convert:hover {\n",
              "      background-color: #434B5C;\n",
              "      box-shadow: 0px 1px 3px 1px rgba(0, 0, 0, 0.15);\n",
              "      filter: drop-shadow(0px 1px 2px rgba(0, 0, 0, 0.3));\n",
              "      fill: #FFFFFF;\n",
              "    }\n",
              "  </style>\n",
              "\n",
              "      <script>\n",
              "        const buttonEl =\n",
              "          document.querySelector('#df-89dc6261-159b-4801-a7f0-009e1f6bd6dd button.colab-df-convert');\n",
              "        buttonEl.style.display =\n",
              "          google.colab.kernel.accessAllowed ? 'block' : 'none';\n",
              "\n",
              "        async function convertToInteractive(key) {\n",
              "          const element = document.querySelector('#df-89dc6261-159b-4801-a7f0-009e1f6bd6dd');\n",
              "          const dataTable =\n",
              "            await google.colab.kernel.invokeFunction('convertToInteractive',\n",
              "                                                     [key], {});\n",
              "          if (!dataTable) return;\n",
              "\n",
              "          const docLinkHtml = 'Like what you see? Visit the ' +\n",
              "            '<a target=\"_blank\" href=https://colab.research.google.com/notebooks/data_table.ipynb>data table notebook</a>'\n",
              "            + ' to learn more about interactive tables.';\n",
              "          element.innerHTML = '';\n",
              "          dataTable['output_type'] = 'display_data';\n",
              "          await google.colab.output.renderOutput(dataTable, element);\n",
              "          const docLink = document.createElement('div');\n",
              "          docLink.innerHTML = docLinkHtml;\n",
              "          element.appendChild(docLink);\n",
              "        }\n",
              "      </script>\n",
              "    </div>\n",
              "  </div>\n",
              "  "
            ]
          },
          "metadata": {},
          "execution_count": 5
        }
      ]
    },
    {
      "cell_type": "code",
      "source": [
        "#rename column by creating new dataframe\n",
        "df2 = df.rename(columns={'it':'mech'})\n",
        "df2"
      ],
      "metadata": {
        "colab": {
          "base_uri": "https://localhost:8080/",
          "height": 143
        },
        "id": "q5k1_uEZwbvz",
        "outputId": "101331c8-248c-4ce8-cad5-100340a59cdf"
      },
      "execution_count": null,
      "outputs": [
        {
          "output_type": "execute_result",
          "data": {
            "text/plain": [
              "      civil mech\n",
              "0  shreyash  xyz\n",
              "1       abc  cvb\n",
              "2       cde  dvd"
            ],
            "text/html": [
              "\n",
              "  <div id=\"df-269a42be-3b3a-4ba5-aa9a-c03aa638c2a6\">\n",
              "    <div class=\"colab-df-container\">\n",
              "      <div>\n",
              "<style scoped>\n",
              "    .dataframe tbody tr th:only-of-type {\n",
              "        vertical-align: middle;\n",
              "    }\n",
              "\n",
              "    .dataframe tbody tr th {\n",
              "        vertical-align: top;\n",
              "    }\n",
              "\n",
              "    .dataframe thead th {\n",
              "        text-align: right;\n",
              "    }\n",
              "</style>\n",
              "<table border=\"1\" class=\"dataframe\">\n",
              "  <thead>\n",
              "    <tr style=\"text-align: right;\">\n",
              "      <th></th>\n",
              "      <th>civil</th>\n",
              "      <th>mech</th>\n",
              "    </tr>\n",
              "  </thead>\n",
              "  <tbody>\n",
              "    <tr>\n",
              "      <th>0</th>\n",
              "      <td>shreyash</td>\n",
              "      <td>xyz</td>\n",
              "    </tr>\n",
              "    <tr>\n",
              "      <th>1</th>\n",
              "      <td>abc</td>\n",
              "      <td>cvb</td>\n",
              "    </tr>\n",
              "    <tr>\n",
              "      <th>2</th>\n",
              "      <td>cde</td>\n",
              "      <td>dvd</td>\n",
              "    </tr>\n",
              "  </tbody>\n",
              "</table>\n",
              "</div>\n",
              "      <button class=\"colab-df-convert\" onclick=\"convertToInteractive('df-269a42be-3b3a-4ba5-aa9a-c03aa638c2a6')\"\n",
              "              title=\"Convert this dataframe to an interactive table.\"\n",
              "              style=\"display:none;\">\n",
              "        \n",
              "  <svg xmlns=\"http://www.w3.org/2000/svg\" height=\"24px\"viewBox=\"0 0 24 24\"\n",
              "       width=\"24px\">\n",
              "    <path d=\"M0 0h24v24H0V0z\" fill=\"none\"/>\n",
              "    <path d=\"M18.56 5.44l.94 2.06.94-2.06 2.06-.94-2.06-.94-.94-2.06-.94 2.06-2.06.94zm-11 1L8.5 8.5l.94-2.06 2.06-.94-2.06-.94L8.5 2.5l-.94 2.06-2.06.94zm10 10l.94 2.06.94-2.06 2.06-.94-2.06-.94-.94-2.06-.94 2.06-2.06.94z\"/><path d=\"M17.41 7.96l-1.37-1.37c-.4-.4-.92-.59-1.43-.59-.52 0-1.04.2-1.43.59L10.3 9.45l-7.72 7.72c-.78.78-.78 2.05 0 2.83L4 21.41c.39.39.9.59 1.41.59.51 0 1.02-.2 1.41-.59l7.78-7.78 2.81-2.81c.8-.78.8-2.07 0-2.86zM5.41 20L4 18.59l7.72-7.72 1.47 1.35L5.41 20z\"/>\n",
              "  </svg>\n",
              "      </button>\n",
              "      \n",
              "  <style>\n",
              "    .colab-df-container {\n",
              "      display:flex;\n",
              "      flex-wrap:wrap;\n",
              "      gap: 12px;\n",
              "    }\n",
              "\n",
              "    .colab-df-convert {\n",
              "      background-color: #E8F0FE;\n",
              "      border: none;\n",
              "      border-radius: 50%;\n",
              "      cursor: pointer;\n",
              "      display: none;\n",
              "      fill: #1967D2;\n",
              "      height: 32px;\n",
              "      padding: 0 0 0 0;\n",
              "      width: 32px;\n",
              "    }\n",
              "\n",
              "    .colab-df-convert:hover {\n",
              "      background-color: #E2EBFA;\n",
              "      box-shadow: 0px 1px 2px rgba(60, 64, 67, 0.3), 0px 1px 3px 1px rgba(60, 64, 67, 0.15);\n",
              "      fill: #174EA6;\n",
              "    }\n",
              "\n",
              "    [theme=dark] .colab-df-convert {\n",
              "      background-color: #3B4455;\n",
              "      fill: #D2E3FC;\n",
              "    }\n",
              "\n",
              "    [theme=dark] .colab-df-convert:hover {\n",
              "      background-color: #434B5C;\n",
              "      box-shadow: 0px 1px 3px 1px rgba(0, 0, 0, 0.15);\n",
              "      filter: drop-shadow(0px 1px 2px rgba(0, 0, 0, 0.3));\n",
              "      fill: #FFFFFF;\n",
              "    }\n",
              "  </style>\n",
              "\n",
              "      <script>\n",
              "        const buttonEl =\n",
              "          document.querySelector('#df-269a42be-3b3a-4ba5-aa9a-c03aa638c2a6 button.colab-df-convert');\n",
              "        buttonEl.style.display =\n",
              "          google.colab.kernel.accessAllowed ? 'block' : 'none';\n",
              "\n",
              "        async function convertToInteractive(key) {\n",
              "          const element = document.querySelector('#df-269a42be-3b3a-4ba5-aa9a-c03aa638c2a6');\n",
              "          const dataTable =\n",
              "            await google.colab.kernel.invokeFunction('convertToInteractive',\n",
              "                                                     [key], {});\n",
              "          if (!dataTable) return;\n",
              "\n",
              "          const docLinkHtml = 'Like what you see? Visit the ' +\n",
              "            '<a target=\"_blank\" href=https://colab.research.google.com/notebooks/data_table.ipynb>data table notebook</a>'\n",
              "            + ' to learn more about interactive tables.';\n",
              "          element.innerHTML = '';\n",
              "          dataTable['output_type'] = 'display_data';\n",
              "          await google.colab.output.renderOutput(dataTable, element);\n",
              "          const docLink = document.createElement('div');\n",
              "          docLink.innerHTML = docLinkHtml;\n",
              "          element.appendChild(docLink);\n",
              "        }\n",
              "      </script>\n",
              "    </div>\n",
              "  </div>\n",
              "  "
            ]
          },
          "metadata": {},
          "execution_count": 8
        }
      ]
    },
    {
      "cell_type": "code",
      "source": [
        "#without creating new dataframe\n",
        "df.rename(columns={'it':'mech'},inplace=True )\n",
        "df"
      ],
      "metadata": {
        "colab": {
          "base_uri": "https://localhost:8080/",
          "height": 143
        },
        "id": "zuSAh0FWwv89",
        "outputId": "f7a3b715-e022-4f40-97ee-59863d5b7707"
      },
      "execution_count": null,
      "outputs": [
        {
          "output_type": "execute_result",
          "data": {
            "text/plain": [
              "      civil mech\n",
              "0  shreyash  xyz\n",
              "1       abc  cvb\n",
              "2       cde  dvd"
            ],
            "text/html": [
              "\n",
              "  <div id=\"df-ee7dd39d-758e-4319-87a9-0bfe9dfb1998\">\n",
              "    <div class=\"colab-df-container\">\n",
              "      <div>\n",
              "<style scoped>\n",
              "    .dataframe tbody tr th:only-of-type {\n",
              "        vertical-align: middle;\n",
              "    }\n",
              "\n",
              "    .dataframe tbody tr th {\n",
              "        vertical-align: top;\n",
              "    }\n",
              "\n",
              "    .dataframe thead th {\n",
              "        text-align: right;\n",
              "    }\n",
              "</style>\n",
              "<table border=\"1\" class=\"dataframe\">\n",
              "  <thead>\n",
              "    <tr style=\"text-align: right;\">\n",
              "      <th></th>\n",
              "      <th>civil</th>\n",
              "      <th>mech</th>\n",
              "    </tr>\n",
              "  </thead>\n",
              "  <tbody>\n",
              "    <tr>\n",
              "      <th>0</th>\n",
              "      <td>shreyash</td>\n",
              "      <td>xyz</td>\n",
              "    </tr>\n",
              "    <tr>\n",
              "      <th>1</th>\n",
              "      <td>abc</td>\n",
              "      <td>cvb</td>\n",
              "    </tr>\n",
              "    <tr>\n",
              "      <th>2</th>\n",
              "      <td>cde</td>\n",
              "      <td>dvd</td>\n",
              "    </tr>\n",
              "  </tbody>\n",
              "</table>\n",
              "</div>\n",
              "      <button class=\"colab-df-convert\" onclick=\"convertToInteractive('df-ee7dd39d-758e-4319-87a9-0bfe9dfb1998')\"\n",
              "              title=\"Convert this dataframe to an interactive table.\"\n",
              "              style=\"display:none;\">\n",
              "        \n",
              "  <svg xmlns=\"http://www.w3.org/2000/svg\" height=\"24px\"viewBox=\"0 0 24 24\"\n",
              "       width=\"24px\">\n",
              "    <path d=\"M0 0h24v24H0V0z\" fill=\"none\"/>\n",
              "    <path d=\"M18.56 5.44l.94 2.06.94-2.06 2.06-.94-2.06-.94-.94-2.06-.94 2.06-2.06.94zm-11 1L8.5 8.5l.94-2.06 2.06-.94-2.06-.94L8.5 2.5l-.94 2.06-2.06.94zm10 10l.94 2.06.94-2.06 2.06-.94-2.06-.94-.94-2.06-.94 2.06-2.06.94z\"/><path d=\"M17.41 7.96l-1.37-1.37c-.4-.4-.92-.59-1.43-.59-.52 0-1.04.2-1.43.59L10.3 9.45l-7.72 7.72c-.78.78-.78 2.05 0 2.83L4 21.41c.39.39.9.59 1.41.59.51 0 1.02-.2 1.41-.59l7.78-7.78 2.81-2.81c.8-.78.8-2.07 0-2.86zM5.41 20L4 18.59l7.72-7.72 1.47 1.35L5.41 20z\"/>\n",
              "  </svg>\n",
              "      </button>\n",
              "      \n",
              "  <style>\n",
              "    .colab-df-container {\n",
              "      display:flex;\n",
              "      flex-wrap:wrap;\n",
              "      gap: 12px;\n",
              "    }\n",
              "\n",
              "    .colab-df-convert {\n",
              "      background-color: #E8F0FE;\n",
              "      border: none;\n",
              "      border-radius: 50%;\n",
              "      cursor: pointer;\n",
              "      display: none;\n",
              "      fill: #1967D2;\n",
              "      height: 32px;\n",
              "      padding: 0 0 0 0;\n",
              "      width: 32px;\n",
              "    }\n",
              "\n",
              "    .colab-df-convert:hover {\n",
              "      background-color: #E2EBFA;\n",
              "      box-shadow: 0px 1px 2px rgba(60, 64, 67, 0.3), 0px 1px 3px 1px rgba(60, 64, 67, 0.15);\n",
              "      fill: #174EA6;\n",
              "    }\n",
              "\n",
              "    [theme=dark] .colab-df-convert {\n",
              "      background-color: #3B4455;\n",
              "      fill: #D2E3FC;\n",
              "    }\n",
              "\n",
              "    [theme=dark] .colab-df-convert:hover {\n",
              "      background-color: #434B5C;\n",
              "      box-shadow: 0px 1px 3px 1px rgba(0, 0, 0, 0.15);\n",
              "      filter: drop-shadow(0px 1px 2px rgba(0, 0, 0, 0.3));\n",
              "      fill: #FFFFFF;\n",
              "    }\n",
              "  </style>\n",
              "\n",
              "      <script>\n",
              "        const buttonEl =\n",
              "          document.querySelector('#df-ee7dd39d-758e-4319-87a9-0bfe9dfb1998 button.colab-df-convert');\n",
              "        buttonEl.style.display =\n",
              "          google.colab.kernel.accessAllowed ? 'block' : 'none';\n",
              "\n",
              "        async function convertToInteractive(key) {\n",
              "          const element = document.querySelector('#df-ee7dd39d-758e-4319-87a9-0bfe9dfb1998');\n",
              "          const dataTable =\n",
              "            await google.colab.kernel.invokeFunction('convertToInteractive',\n",
              "                                                     [key], {});\n",
              "          if (!dataTable) return;\n",
              "\n",
              "          const docLinkHtml = 'Like what you see? Visit the ' +\n",
              "            '<a target=\"_blank\" href=https://colab.research.google.com/notebooks/data_table.ipynb>data table notebook</a>'\n",
              "            + ' to learn more about interactive tables.';\n",
              "          element.innerHTML = '';\n",
              "          dataTable['output_type'] = 'display_data';\n",
              "          await google.colab.output.renderOutput(dataTable, element);\n",
              "          const docLink = document.createElement('div');\n",
              "          docLink.innerHTML = docLinkHtml;\n",
              "          element.appendChild(docLink);\n",
              "        }\n",
              "      </script>\n",
              "    </div>\n",
              "  </div>\n",
              "  "
            ]
          },
          "metadata": {},
          "execution_count": 12
        }
      ]
    },
    {
      "cell_type": "code",
      "source": [
        "# swap elements from list\n",
        "mylist= [ 10,'hi','bye',30 ]\n",
        "print(mylist)\n",
        "\n",
        "mylist[1],mylist[3]=mylist[3],mylist[1]\n",
        "print(mylist)"
      ],
      "metadata": {
        "colab": {
          "base_uri": "https://localhost:8080/"
        },
        "id": "7qI2ynX9GXM0",
        "outputId": "35b00684-9a06-4ca4-9ee5-8cb1a28f457e"
      },
      "execution_count": null,
      "outputs": [
        {
          "output_type": "stream",
          "name": "stdout",
          "text": [
            "[10, 'hi', 'bye', 30]\n",
            "[10, 30, 'bye', 'hi']\n"
          ]
        }
      ]
    },
    {
      "cell_type": "code",
      "source": [
        "# find the square of numbers in range 1 to 100\n",
        "squared_numbers = [num**2 for num in (range(1,100))]"
      ],
      "metadata": {
        "id": "Lfp_ex0c9c_P"
      },
      "execution_count": null,
      "outputs": []
    },
    {
      "cell_type": "code",
      "source": [
        "squared_numbers"
      ],
      "metadata": {
        "colab": {
          "base_uri": "https://localhost:8080/"
        },
        "id": "r3voRw4t9jny",
        "outputId": "3265504b-d023-4a09-9fe3-632a416e3a98"
      },
      "execution_count": null,
      "outputs": [
        {
          "output_type": "execute_result",
          "data": {
            "text/plain": [
              "[1,\n",
              " 4,\n",
              " 9,\n",
              " 16,\n",
              " 25,\n",
              " 36,\n",
              " 49,\n",
              " 64,\n",
              " 81,\n",
              " 100,\n",
              " 121,\n",
              " 144,\n",
              " 169,\n",
              " 196,\n",
              " 225,\n",
              " 256,\n",
              " 289,\n",
              " 324,\n",
              " 361,\n",
              " 400,\n",
              " 441,\n",
              " 484,\n",
              " 529,\n",
              " 576,\n",
              " 625,\n",
              " 676,\n",
              " 729,\n",
              " 784,\n",
              " 841,\n",
              " 900,\n",
              " 961,\n",
              " 1024,\n",
              " 1089,\n",
              " 1156,\n",
              " 1225,\n",
              " 1296,\n",
              " 1369,\n",
              " 1444,\n",
              " 1521,\n",
              " 1600,\n",
              " 1681,\n",
              " 1764,\n",
              " 1849,\n",
              " 1936,\n",
              " 2025,\n",
              " 2116,\n",
              " 2209,\n",
              " 2304,\n",
              " 2401,\n",
              " 2500,\n",
              " 2601,\n",
              " 2704,\n",
              " 2809,\n",
              " 2916,\n",
              " 3025,\n",
              " 3136,\n",
              " 3249,\n",
              " 3364,\n",
              " 3481,\n",
              " 3600,\n",
              " 3721,\n",
              " 3844,\n",
              " 3969,\n",
              " 4096,\n",
              " 4225,\n",
              " 4356,\n",
              " 4489,\n",
              " 4624,\n",
              " 4761,\n",
              " 4900,\n",
              " 5041,\n",
              " 5184,\n",
              " 5329,\n",
              " 5476,\n",
              " 5625,\n",
              " 5776,\n",
              " 5929,\n",
              " 6084,\n",
              " 6241,\n",
              " 6400,\n",
              " 6561,\n",
              " 6724,\n",
              " 6889,\n",
              " 7056,\n",
              " 7225,\n",
              " 7396,\n",
              " 7569,\n",
              " 7744,\n",
              " 7921,\n",
              " 8100,\n",
              " 8281,\n",
              " 8464,\n",
              " 8649,\n",
              " 8836,\n",
              " 9025,\n",
              " 9216,\n",
              " 9409,\n",
              " 9604,\n",
              " 9801]"
            ]
          },
          "metadata": {},
          "execution_count": 7
        }
      ]
    },
    {
      "cell_type": "code",
      "source": [
        "#square of odd numbers\n",
        "\n",
        "squared_number1= [num**2 for num in range(1,101,1) ]\n",
        "print(squared_number1)"
      ],
      "metadata": {
        "colab": {
          "base_uri": "https://localhost:8080/"
        },
        "id": "Yvifvru3A-4a",
        "outputId": "df44c351-1568-4bf6-ca88-5c973d4ca4a4"
      },
      "execution_count": 13,
      "outputs": [
        {
          "output_type": "stream",
          "name": "stdout",
          "text": [
            "[1, 4, 9, 16, 25, 36, 49, 64, 81, 100, 121, 144, 169, 196, 225, 256, 289, 324, 361, 400, 441, 484, 529, 576, 625, 676, 729, 784, 841, 900, 961, 1024, 1089, 1156, 1225, 1296, 1369, 1444, 1521, 1600, 1681, 1764, 1849, 1936, 2025, 2116, 2209, 2304, 2401, 2500, 2601, 2704, 2809, 2916, 3025, 3136, 3249, 3364, 3481, 3600, 3721, 3844, 3969, 4096, 4225, 4356, 4489, 4624, 4761, 4900, 5041, 5184, 5329, 5476, 5625, 5776, 5929, 6084, 6241, 6400, 6561, 6724, 6889, 7056, 7225, 7396, 7569, 7744, 7921, 8100, 8281, 8464, 8649, 8836, 9025, 9216, 9409, 9604, 9801, 10000]\n"
          ]
        }
      ]
    },
    {
      "cell_type": "code",
      "source": [
        "# code for sum of square of n natural numbers\n",
        "\n",
        "n= int(input())\n",
        "i= 1\n",
        "sum = 0\n",
        "while (i<=n):\n",
        "  sum= sum + (i*i)\n",
        "  i=i+1\n",
        "print(sum)"
      ],
      "metadata": {
        "colab": {
          "base_uri": "https://localhost:8080/"
        },
        "id": "YMyxYi13Yn3p",
        "outputId": "915d3643-eeb6-4e31-ec98-2d68305dc31d"
      },
      "execution_count": null,
      "outputs": [
        {
          "output_type": "stream",
          "name": "stdout",
          "text": [
            "6\n",
            "91\n"
          ]
        }
      ]
    },
    {
      "cell_type": "code",
      "source": [
        "# code for remove multiple element from list \n",
        "\n",
        "list1 = [1,4,4,3,1,5,8]\n",
        "del list1[2:5]   #it will remove from index 2 to 4 , index 5 is exclusive\n",
        "print(list1)"
      ],
      "metadata": {
        "colab": {
          "base_uri": "https://localhost:8080/"
        },
        "id": "BhrTtBJxdd1W",
        "outputId": "e743ab8b-963a-474c-9cd9-ee30393536da"
      },
      "execution_count": null,
      "outputs": [
        {
          "output_type": "stream",
          "name": "stdout",
          "text": [
            "[1, 4, 5, 8]\n"
          ]
        }
      ]
    },
    {
      "cell_type": "markdown",
      "source": [
        "#**difference between list and disctionaries**\n",
        "\n",
        "![list dictionaries.jpg](data:image/jpeg;base64,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)"
      ],
      "metadata": {
        "id": "HgWEeHDWfdMF"
      }
    },
    {
      "cell_type": "markdown",
      "source": [
        "# Q = what are the different nameds for rows and columns in datarame\n",
        "\n",
        "ans = for COLUMNS = Labels , features \n",
        "\n",
        "  for  ROWS = observation , datapoints\n"
      ],
      "metadata": {
        "id": "_Z1iUhPdvmoa"
      }
    },
    {
      "cell_type": "code",
      "source": [
        "# drop columns from data\n",
        "data = {'col1':['A','B','C','D'],\n",
        "        'col2':['E','F','G','H'],\n",
        "        'col3':['i','j','k','l']}"
      ],
      "metadata": {
        "id": "1oO4_fiGgJx0"
      },
      "execution_count": null,
      "outputs": []
    },
    {
      "cell_type": "code",
      "source": [
        "import pandas as pd\n",
        "\n",
        "df = pd.DataFrame(data)\n",
        "df"
      ],
      "metadata": {
        "colab": {
          "base_uri": "https://localhost:8080/",
          "height": 175
        },
        "id": "4V8EZVRZPgos",
        "outputId": "8f95ffdb-dd5b-41f5-e0ae-c94f3f3f1300"
      },
      "execution_count": null,
      "outputs": [
        {
          "output_type": "execute_result",
          "data": {
            "text/plain": [
              "  col1 col2 col3\n",
              "0    A    E    i\n",
              "1    B    F    j\n",
              "2    C    G    k\n",
              "3    D    H    l"
            ],
            "text/html": [
              "\n",
              "  <div id=\"df-94c58889-a918-4b5d-ab6b-c29f4d5d2171\">\n",
              "    <div class=\"colab-df-container\">\n",
              "      <div>\n",
              "<style scoped>\n",
              "    .dataframe tbody tr th:only-of-type {\n",
              "        vertical-align: middle;\n",
              "    }\n",
              "\n",
              "    .dataframe tbody tr th {\n",
              "        vertical-align: top;\n",
              "    }\n",
              "\n",
              "    .dataframe thead th {\n",
              "        text-align: right;\n",
              "    }\n",
              "</style>\n",
              "<table border=\"1\" class=\"dataframe\">\n",
              "  <thead>\n",
              "    <tr style=\"text-align: right;\">\n",
              "      <th></th>\n",
              "      <th>col1</th>\n",
              "      <th>col2</th>\n",
              "      <th>col3</th>\n",
              "    </tr>\n",
              "  </thead>\n",
              "  <tbody>\n",
              "    <tr>\n",
              "      <th>0</th>\n",
              "      <td>A</td>\n",
              "      <td>E</td>\n",
              "      <td>i</td>\n",
              "    </tr>\n",
              "    <tr>\n",
              "      <th>1</th>\n",
              "      <td>B</td>\n",
              "      <td>F</td>\n",
              "      <td>j</td>\n",
              "    </tr>\n",
              "    <tr>\n",
              "      <th>2</th>\n",
              "      <td>C</td>\n",
              "      <td>G</td>\n",
              "      <td>k</td>\n",
              "    </tr>\n",
              "    <tr>\n",
              "      <th>3</th>\n",
              "      <td>D</td>\n",
              "      <td>H</td>\n",
              "      <td>l</td>\n",
              "    </tr>\n",
              "  </tbody>\n",
              "</table>\n",
              "</div>\n",
              "      <button class=\"colab-df-convert\" onclick=\"convertToInteractive('df-94c58889-a918-4b5d-ab6b-c29f4d5d2171')\"\n",
              "              title=\"Convert this dataframe to an interactive table.\"\n",
              "              style=\"display:none;\">\n",
              "        \n",
              "  <svg xmlns=\"http://www.w3.org/2000/svg\" height=\"24px\"viewBox=\"0 0 24 24\"\n",
              "       width=\"24px\">\n",
              "    <path d=\"M0 0h24v24H0V0z\" fill=\"none\"/>\n",
              "    <path d=\"M18.56 5.44l.94 2.06.94-2.06 2.06-.94-2.06-.94-.94-2.06-.94 2.06-2.06.94zm-11 1L8.5 8.5l.94-2.06 2.06-.94-2.06-.94L8.5 2.5l-.94 2.06-2.06.94zm10 10l.94 2.06.94-2.06 2.06-.94-2.06-.94-.94-2.06-.94 2.06-2.06.94z\"/><path d=\"M17.41 7.96l-1.37-1.37c-.4-.4-.92-.59-1.43-.59-.52 0-1.04.2-1.43.59L10.3 9.45l-7.72 7.72c-.78.78-.78 2.05 0 2.83L4 21.41c.39.39.9.59 1.41.59.51 0 1.02-.2 1.41-.59l7.78-7.78 2.81-2.81c.8-.78.8-2.07 0-2.86zM5.41 20L4 18.59l7.72-7.72 1.47 1.35L5.41 20z\"/>\n",
              "  </svg>\n",
              "      </button>\n",
              "      \n",
              "  <style>\n",
              "    .colab-df-container {\n",
              "      display:flex;\n",
              "      flex-wrap:wrap;\n",
              "      gap: 12px;\n",
              "    }\n",
              "\n",
              "    .colab-df-convert {\n",
              "      background-color: #E8F0FE;\n",
              "      border: none;\n",
              "      border-radius: 50%;\n",
              "      cursor: pointer;\n",
              "      display: none;\n",
              "      fill: #1967D2;\n",
              "      height: 32px;\n",
              "      padding: 0 0 0 0;\n",
              "      width: 32px;\n",
              "    }\n",
              "\n",
              "    .colab-df-convert:hover {\n",
              "      background-color: #E2EBFA;\n",
              "      box-shadow: 0px 1px 2px rgba(60, 64, 67, 0.3), 0px 1px 3px 1px rgba(60, 64, 67, 0.15);\n",
              "      fill: #174EA6;\n",
              "    }\n",
              "\n",
              "    [theme=dark] .colab-df-convert {\n",
              "      background-color: #3B4455;\n",
              "      fill: #D2E3FC;\n",
              "    }\n",
              "\n",
              "    [theme=dark] .colab-df-convert:hover {\n",
              "      background-color: #434B5C;\n",
              "      box-shadow: 0px 1px 3px 1px rgba(0, 0, 0, 0.15);\n",
              "      filter: drop-shadow(0px 1px 2px rgba(0, 0, 0, 0.3));\n",
              "      fill: #FFFFFF;\n",
              "    }\n",
              "  </style>\n",
              "\n",
              "      <script>\n",
              "        const buttonEl =\n",
              "          document.querySelector('#df-94c58889-a918-4b5d-ab6b-c29f4d5d2171 button.colab-df-convert');\n",
              "        buttonEl.style.display =\n",
              "          google.colab.kernel.accessAllowed ? 'block' : 'none';\n",
              "\n",
              "        async function convertToInteractive(key) {\n",
              "          const element = document.querySelector('#df-94c58889-a918-4b5d-ab6b-c29f4d5d2171');\n",
              "          const dataTable =\n",
              "            await google.colab.kernel.invokeFunction('convertToInteractive',\n",
              "                                                     [key], {});\n",
              "          if (!dataTable) return;\n",
              "\n",
              "          const docLinkHtml = 'Like what you see? Visit the ' +\n",
              "            '<a target=\"_blank\" href=https://colab.research.google.com/notebooks/data_table.ipynb>data table notebook</a>'\n",
              "            + ' to learn more about interactive tables.';\n",
              "          element.innerHTML = '';\n",
              "          dataTable['output_type'] = 'display_data';\n",
              "          await google.colab.output.renderOutput(dataTable, element);\n",
              "          const docLink = document.createElement('div');\n",
              "          docLink.innerHTML = docLinkHtml;\n",
              "          element.appendChild(docLink);\n",
              "        }\n",
              "      </script>\n",
              "    </div>\n",
              "  </div>\n",
              "  "
            ]
          },
          "metadata": {},
          "execution_count": 3
        }
      ]
    },
    {
      "cell_type": "code",
      "source": [
        "df.drop(['col1'],axis=1,inplace= True)    # inplace true for delete column permanently"
      ],
      "metadata": {
        "id": "FnpsoUlEQU4k"
      },
      "execution_count": null,
      "outputs": []
    },
    {
      "cell_type": "code",
      "source": [
        "df"
      ],
      "metadata": {
        "colab": {
          "base_uri": "https://localhost:8080/",
          "height": 175
        },
        "id": "7uZ2ZrPHQgMD",
        "outputId": "d690254f-1015-487b-81ad-941d800b90a6"
      },
      "execution_count": null,
      "outputs": [
        {
          "output_type": "execute_result",
          "data": {
            "text/plain": [
              "  col2 col3\n",
              "0    E    i\n",
              "1    F    j\n",
              "2    G    k\n",
              "3    H    l"
            ],
            "text/html": [
              "\n",
              "  <div id=\"df-abed0ae8-48df-4900-b055-9f8f7281cfc4\">\n",
              "    <div class=\"colab-df-container\">\n",
              "      <div>\n",
              "<style scoped>\n",
              "    .dataframe tbody tr th:only-of-type {\n",
              "        vertical-align: middle;\n",
              "    }\n",
              "\n",
              "    .dataframe tbody tr th {\n",
              "        vertical-align: top;\n",
              "    }\n",
              "\n",
              "    .dataframe thead th {\n",
              "        text-align: right;\n",
              "    }\n",
              "</style>\n",
              "<table border=\"1\" class=\"dataframe\">\n",
              "  <thead>\n",
              "    <tr style=\"text-align: right;\">\n",
              "      <th></th>\n",
              "      <th>col2</th>\n",
              "      <th>col3</th>\n",
              "    </tr>\n",
              "  </thead>\n",
              "  <tbody>\n",
              "    <tr>\n",
              "      <th>0</th>\n",
              "      <td>E</td>\n",
              "      <td>i</td>\n",
              "    </tr>\n",
              "    <tr>\n",
              "      <th>1</th>\n",
              "      <td>F</td>\n",
              "      <td>j</td>\n",
              "    </tr>\n",
              "    <tr>\n",
              "      <th>2</th>\n",
              "      <td>G</td>\n",
              "      <td>k</td>\n",
              "    </tr>\n",
              "    <tr>\n",
              "      <th>3</th>\n",
              "      <td>H</td>\n",
              "      <td>l</td>\n",
              "    </tr>\n",
              "  </tbody>\n",
              "</table>\n",
              "</div>\n",
              "      <button class=\"colab-df-convert\" onclick=\"convertToInteractive('df-abed0ae8-48df-4900-b055-9f8f7281cfc4')\"\n",
              "              title=\"Convert this dataframe to an interactive table.\"\n",
              "              style=\"display:none;\">\n",
              "        \n",
              "  <svg xmlns=\"http://www.w3.org/2000/svg\" height=\"24px\"viewBox=\"0 0 24 24\"\n",
              "       width=\"24px\">\n",
              "    <path d=\"M0 0h24v24H0V0z\" fill=\"none\"/>\n",
              "    <path d=\"M18.56 5.44l.94 2.06.94-2.06 2.06-.94-2.06-.94-.94-2.06-.94 2.06-2.06.94zm-11 1L8.5 8.5l.94-2.06 2.06-.94-2.06-.94L8.5 2.5l-.94 2.06-2.06.94zm10 10l.94 2.06.94-2.06 2.06-.94-2.06-.94-.94-2.06-.94 2.06-2.06.94z\"/><path d=\"M17.41 7.96l-1.37-1.37c-.4-.4-.92-.59-1.43-.59-.52 0-1.04.2-1.43.59L10.3 9.45l-7.72 7.72c-.78.78-.78 2.05 0 2.83L4 21.41c.39.39.9.59 1.41.59.51 0 1.02-.2 1.41-.59l7.78-7.78 2.81-2.81c.8-.78.8-2.07 0-2.86zM5.41 20L4 18.59l7.72-7.72 1.47 1.35L5.41 20z\"/>\n",
              "  </svg>\n",
              "      </button>\n",
              "      \n",
              "  <style>\n",
              "    .colab-df-container {\n",
              "      display:flex;\n",
              "      flex-wrap:wrap;\n",
              "      gap: 12px;\n",
              "    }\n",
              "\n",
              "    .colab-df-convert {\n",
              "      background-color: #E8F0FE;\n",
              "      border: none;\n",
              "      border-radius: 50%;\n",
              "      cursor: pointer;\n",
              "      display: none;\n",
              "      fill: #1967D2;\n",
              "      height: 32px;\n",
              "      padding: 0 0 0 0;\n",
              "      width: 32px;\n",
              "    }\n",
              "\n",
              "    .colab-df-convert:hover {\n",
              "      background-color: #E2EBFA;\n",
              "      box-shadow: 0px 1px 2px rgba(60, 64, 67, 0.3), 0px 1px 3px 1px rgba(60, 64, 67, 0.15);\n",
              "      fill: #174EA6;\n",
              "    }\n",
              "\n",
              "    [theme=dark] .colab-df-convert {\n",
              "      background-color: #3B4455;\n",
              "      fill: #D2E3FC;\n",
              "    }\n",
              "\n",
              "    [theme=dark] .colab-df-convert:hover {\n",
              "      background-color: #434B5C;\n",
              "      box-shadow: 0px 1px 3px 1px rgba(0, 0, 0, 0.15);\n",
              "      filter: drop-shadow(0px 1px 2px rgba(0, 0, 0, 0.3));\n",
              "      fill: #FFFFFF;\n",
              "    }\n",
              "  </style>\n",
              "\n",
              "      <script>\n",
              "        const buttonEl =\n",
              "          document.querySelector('#df-abed0ae8-48df-4900-b055-9f8f7281cfc4 button.colab-df-convert');\n",
              "        buttonEl.style.display =\n",
              "          google.colab.kernel.accessAllowed ? 'block' : 'none';\n",
              "\n",
              "        async function convertToInteractive(key) {\n",
              "          const element = document.querySelector('#df-abed0ae8-48df-4900-b055-9f8f7281cfc4');\n",
              "          const dataTable =\n",
              "            await google.colab.kernel.invokeFunction('convertToInteractive',\n",
              "                                                     [key], {});\n",
              "          if (!dataTable) return;\n",
              "\n",
              "          const docLinkHtml = 'Like what you see? Visit the ' +\n",
              "            '<a target=\"_blank\" href=https://colab.research.google.com/notebooks/data_table.ipynb>data table notebook</a>'\n",
              "            + ' to learn more about interactive tables.';\n",
              "          element.innerHTML = '';\n",
              "          dataTable['output_type'] = 'display_data';\n",
              "          await google.colab.output.renderOutput(dataTable, element);\n",
              "          const docLink = document.createElement('div');\n",
              "          docLink.innerHTML = docLinkHtml;\n",
              "          element.appendChild(docLink);\n",
              "        }\n",
              "      </script>\n",
              "    </div>\n",
              "  </div>\n",
              "  "
            ]
          },
          "metadata": {},
          "execution_count": 7
        }
      ]
    },
    {
      "cell_type": "code",
      "source": [
        "#drop rows from data\n",
        "df.drop([1])  #it will drop index 1 row from data"
      ],
      "metadata": {
        "colab": {
          "base_uri": "https://localhost:8080/",
          "height": 143
        },
        "id": "YWpPnANjQhOz",
        "outputId": "759311fa-1508-4527-f81d-445689773adf"
      },
      "execution_count": null,
      "outputs": [
        {
          "output_type": "execute_result",
          "data": {
            "text/plain": [
              "  col2 col3\n",
              "0    E    i\n",
              "2    G    k\n",
              "3    H    l"
            ],
            "text/html": [
              "\n",
              "  <div id=\"df-31e95bcf-edae-4b88-bcf8-b700244a0a61\">\n",
              "    <div class=\"colab-df-container\">\n",
              "      <div>\n",
              "<style scoped>\n",
              "    .dataframe tbody tr th:only-of-type {\n",
              "        vertical-align: middle;\n",
              "    }\n",
              "\n",
              "    .dataframe tbody tr th {\n",
              "        vertical-align: top;\n",
              "    }\n",
              "\n",
              "    .dataframe thead th {\n",
              "        text-align: right;\n",
              "    }\n",
              "</style>\n",
              "<table border=\"1\" class=\"dataframe\">\n",
              "  <thead>\n",
              "    <tr style=\"text-align: right;\">\n",
              "      <th></th>\n",
              "      <th>col2</th>\n",
              "      <th>col3</th>\n",
              "    </tr>\n",
              "  </thead>\n",
              "  <tbody>\n",
              "    <tr>\n",
              "      <th>0</th>\n",
              "      <td>E</td>\n",
              "      <td>i</td>\n",
              "    </tr>\n",
              "    <tr>\n",
              "      <th>2</th>\n",
              "      <td>G</td>\n",
              "      <td>k</td>\n",
              "    </tr>\n",
              "    <tr>\n",
              "      <th>3</th>\n",
              "      <td>H</td>\n",
              "      <td>l</td>\n",
              "    </tr>\n",
              "  </tbody>\n",
              "</table>\n",
              "</div>\n",
              "      <button class=\"colab-df-convert\" onclick=\"convertToInteractive('df-31e95bcf-edae-4b88-bcf8-b700244a0a61')\"\n",
              "              title=\"Convert this dataframe to an interactive table.\"\n",
              "              style=\"display:none;\">\n",
              "        \n",
              "  <svg xmlns=\"http://www.w3.org/2000/svg\" height=\"24px\"viewBox=\"0 0 24 24\"\n",
              "       width=\"24px\">\n",
              "    <path d=\"M0 0h24v24H0V0z\" fill=\"none\"/>\n",
              "    <path d=\"M18.56 5.44l.94 2.06.94-2.06 2.06-.94-2.06-.94-.94-2.06-.94 2.06-2.06.94zm-11 1L8.5 8.5l.94-2.06 2.06-.94-2.06-.94L8.5 2.5l-.94 2.06-2.06.94zm10 10l.94 2.06.94-2.06 2.06-.94-2.06-.94-.94-2.06-.94 2.06-2.06.94z\"/><path d=\"M17.41 7.96l-1.37-1.37c-.4-.4-.92-.59-1.43-.59-.52 0-1.04.2-1.43.59L10.3 9.45l-7.72 7.72c-.78.78-.78 2.05 0 2.83L4 21.41c.39.39.9.59 1.41.59.51 0 1.02-.2 1.41-.59l7.78-7.78 2.81-2.81c.8-.78.8-2.07 0-2.86zM5.41 20L4 18.59l7.72-7.72 1.47 1.35L5.41 20z\"/>\n",
              "  </svg>\n",
              "      </button>\n",
              "      \n",
              "  <style>\n",
              "    .colab-df-container {\n",
              "      display:flex;\n",
              "      flex-wrap:wrap;\n",
              "      gap: 12px;\n",
              "    }\n",
              "\n",
              "    .colab-df-convert {\n",
              "      background-color: #E8F0FE;\n",
              "      border: none;\n",
              "      border-radius: 50%;\n",
              "      cursor: pointer;\n",
              "      display: none;\n",
              "      fill: #1967D2;\n",
              "      height: 32px;\n",
              "      padding: 0 0 0 0;\n",
              "      width: 32px;\n",
              "    }\n",
              "\n",
              "    .colab-df-convert:hover {\n",
              "      background-color: #E2EBFA;\n",
              "      box-shadow: 0px 1px 2px rgba(60, 64, 67, 0.3), 0px 1px 3px 1px rgba(60, 64, 67, 0.15);\n",
              "      fill: #174EA6;\n",
              "    }\n",
              "\n",
              "    [theme=dark] .colab-df-convert {\n",
              "      background-color: #3B4455;\n",
              "      fill: #D2E3FC;\n",
              "    }\n",
              "\n",
              "    [theme=dark] .colab-df-convert:hover {\n",
              "      background-color: #434B5C;\n",
              "      box-shadow: 0px 1px 3px 1px rgba(0, 0, 0, 0.15);\n",
              "      filter: drop-shadow(0px 1px 2px rgba(0, 0, 0, 0.3));\n",
              "      fill: #FFFFFF;\n",
              "    }\n",
              "  </style>\n",
              "\n",
              "      <script>\n",
              "        const buttonEl =\n",
              "          document.querySelector('#df-31e95bcf-edae-4b88-bcf8-b700244a0a61 button.colab-df-convert');\n",
              "        buttonEl.style.display =\n",
              "          google.colab.kernel.accessAllowed ? 'block' : 'none';\n",
              "\n",
              "        async function convertToInteractive(key) {\n",
              "          const element = document.querySelector('#df-31e95bcf-edae-4b88-bcf8-b700244a0a61');\n",
              "          const dataTable =\n",
              "            await google.colab.kernel.invokeFunction('convertToInteractive',\n",
              "                                                     [key], {});\n",
              "          if (!dataTable) return;\n",
              "\n",
              "          const docLinkHtml = 'Like what you see? Visit the ' +\n",
              "            '<a target=\"_blank\" href=https://colab.research.google.com/notebooks/data_table.ipynb>data table notebook</a>'\n",
              "            + ' to learn more about interactive tables.';\n",
              "          element.innerHTML = '';\n",
              "          dataTable['output_type'] = 'display_data';\n",
              "          await google.colab.output.renderOutput(dataTable, element);\n",
              "          const docLink = document.createElement('div');\n",
              "          docLink.innerHTML = docLinkHtml;\n",
              "          element.appendChild(docLink);\n",
              "        }\n",
              "      </script>\n",
              "    </div>\n",
              "  </div>\n",
              "  "
            ]
          },
          "metadata": {},
          "execution_count": 8
        }
      ]
    },
    {
      "cell_type": "code",
      "source": [
        "# check if the string is palindrome or not\n",
        "# palindrome means the words which are same even after written as reverse    for eg. madam , tenet \n",
        "\n",
        "word = str(input())\n",
        "if word == word[::-1]:\n",
        "  print(f\"the word '{word}' is palindrome\")\n",
        "else:\n",
        "  print(f\"the word '{word}' is not palindrome\")"
      ],
      "metadata": {
        "colab": {
          "base_uri": "https://localhost:8080/"
        },
        "id": "0P8jzxA_Q6O_",
        "outputId": "c93765ce-5c52-4308-f7ac-6c7c8073cf4e"
      },
      "execution_count": null,
      "outputs": [
        {
          "output_type": "stream",
          "name": "stdout",
          "text": [
            "madam\n",
            "the word 'madam' is palindrome\n"
          ]
        }
      ]
    },
    {
      "cell_type": "code",
      "source": [
        "# what is polymorphism \n",
        "#  answer = \" the word polymorphism means having many forms. \n",
        "#  In programming polymorphism means the same function name being used for different types. the key difference is the data types and number of arguments \"\n",
        "\n",
        "# examples \n",
        "print(len('python'))\n",
        "print(len([10,20,30]))\n",
        "\n",
        "\n",
        "# lets see another example\n",
        "\n",
        "print( 1 + 2 )\n",
        "print( '1' + '2')\n",
        "\n",
        "# we can see that same function but different results "
      ],
      "metadata": {
        "colab": {
          "base_uri": "https://localhost:8080/"
        },
        "id": "nLv6k4ZwSWRw",
        "outputId": "467224de-d46d-44a1-93c2-b97ad301885b"
      },
      "execution_count": null,
      "outputs": [
        {
          "output_type": "stream",
          "name": "stdout",
          "text": [
            "6\n",
            "3\n",
            "3\n",
            "12\n"
          ]
        }
      ]
    },
    {
      "cell_type": "code",
      "source": [
        "#reverse a string\n",
        "\n",
        "a='hello'\n",
        "result = ''.join(reversed(a))\n",
        "print(result)"
      ],
      "metadata": {
        "colab": {
          "base_uri": "https://localhost:8080/"
        },
        "id": "O8FhF6OAWU92",
        "outputId": "c0006925-071f-4ab4-a529-f01e98d86eeb"
      },
      "execution_count": null,
      "outputs": [
        {
          "output_type": "stream",
          "name": "stdout",
          "text": [
            "olleh\n"
          ]
        }
      ]
    },
    {
      "cell_type": "markdown",
      "source": [
        "## when do you use box plot and in what situation would you choose box plot over histogram and what imformation could you gain fromfrom a box plot ?\n",
        "\n",
        "Answer -:\n",
        "Histograms are great for showing what data ranges are most and least common, but they do not tell details like the range or the median. You can use box plots to present these values. They have 5 vertical lines. The lines farthest on the left and right tell the least and greatest values of the data set. The line in the middle is the median. The other two lines are called the lower quartile and upper quartile. The lower quartile line is on the left of the median, and it tells us that one-quarter of the data points are less than or equal to the lower quartile. The upper quartile is on the right of the median and tells us that one-quarter of the data points are greatest than or equal to the upper quartile. Now you try: Find an image of a box plot online or in your textbook. Identify the 5 key values in the box plot.\n",
        "\n",
        "![Ep625-Histograms-Box-Plots-Reading4-600x338.jpg](data:image/jpeg;base64,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)"
      ],
      "metadata": {
        "id": "5uPQ9ZhXc5EC"
      }
    },
    {
      "cell_type": "code",
      "source": [
        "# write a function to find the words in string that greater than the given number\n",
        "\n",
        "sentence = \"hello geeks for geeks is computer science portal\"\n",
        "length = 4\n",
        "print([word for word in sentence.split() if len(word) > length])\n"
      ],
      "metadata": {
        "id": "6VVJGZ4NlrGF"
      },
      "execution_count": null,
      "outputs": []
    },
    {
      "cell_type": "code",
      "source": [
        "# Python program to find all string\n",
        "# which are greater than given length k\n",
        "\n",
        "# function find string greater than length k\n",
        "def string_k(k, str):\n",
        "\t\n",
        "\t# create the empty string\n",
        "\tstring = []\n",
        "\t\n",
        "\t# split the string where space is comes\n",
        "\ttext = str.split(\" \")\n",
        "\t\n",
        "\t# iterate the loop till every substring\n",
        "\tfor x in text:\n",
        "\t\t\n",
        "\t\t# if length of current sub string\n",
        "\t\t# is greater than k then\n",
        "\t\tif len(x) > k:\n",
        "\t\t\t\n",
        "\t\t\t# append this sub string in\n",
        "\t\t\t# string list\n",
        "\t\t\tstring.append(x)\n",
        "\t\t\t\n",
        "\t# return string list\n",
        "\treturn string\n",
        "\n",
        "\n",
        "# Driver Program\t\n",
        "k = 3\n",
        "str =\"geek for geeks\"\n",
        "print(string_k(k, str))\n"
      ],
      "metadata": {
        "id": "K829fyDprTnU"
      },
      "execution_count": null,
      "outputs": []
    },
    {
      "cell_type": "code",
      "source": [
        "# Python Program for Find minimum sum of factors of number\n",
        "\n",
        "# To find minimum sum of\n",
        "# product of number\n",
        "def findMinSum(num):\n",
        "\tsum = 0\n",
        "\t\n",
        "\t# Find factors of number\n",
        "\t# and add to the sum\n",
        "\ti = 2\n",
        "\twhile(i * i <=num):\n",
        "\t\twhile(num % i == 0):\n",
        "\t\t\tsum += i\n",
        "\t\t\tnum //= i\n",
        "\t\ti += 1\n",
        "\tsum += num\n",
        "\t\n",
        "\t# Return sum of numbers\n",
        "\t# having minimum product\n",
        "\treturn sum\n",
        "\n",
        "# Driver Code\n",
        "num = 12\n",
        "print (findMinSum(num))\n",
        "\n",
        "# This code is contributed by Sachin Bisht\n"
      ],
      "metadata": {
        "id": "gCTUfUbSgfn9"
      },
      "execution_count": null,
      "outputs": []
    },
    {
      "cell_type": "markdown",
      "source": [
        "## Can every for loop be written as a list comprehension?\n",
        "\n",
        "Answer :- Every list comprehension can be rewritten as a for loop but not every for loop can be rewritten as a list comprehension. The key to understanding when to use list comprehensions is to practice identifying problems that smell like list comprehensions."
      ],
      "metadata": {
        "id": "npJMlrIbiG_m"
      }
    },
    {
      "cell_type": "code",
      "source": [
        "# to count the no of chars in sentence\n",
        "str1 = input(\"\")\n",
        "count = 0\n",
        "# def countchar(str1):\n",
        "for i in range(0,len(str1)):\n",
        "  if (str1[i]!=' '):\n",
        "    count = count + 1\n",
        "print(\"number of chars are present in string: \" + str(count))"
      ],
      "metadata": {
        "id": "vcTN8zFViGe1",
        "outputId": "6d3a105e-d641-400d-9e6a-b02390e56d56",
        "colab": {
          "base_uri": "https://localhost:8080/"
        }
      },
      "execution_count": 1,
      "outputs": [
        {
          "output_type": "stream",
          "name": "stdout",
          "text": [
            " comprehensions is to practice identifying problems\n",
            "number of chars are present in string: 45\n"
          ]
        }
      ]
    },
    {
      "cell_type": "code",
      "source": [
        "# length of each element in arrayy\n",
        "import pandas as pd\n",
        "sep = pd.Series(['tushar','has','asus','f15'])\n",
        "sep = sep.map(lambda x : len(x))\n",
        "sep"
      ],
      "metadata": {
        "id": "Kgfsf1uSlG-6",
        "outputId": "a7ce804c-5198-4a86-98b2-dc48e89904ba",
        "colab": {
          "base_uri": "https://localhost:8080/"
        }
      },
      "execution_count": 4,
      "outputs": [
        {
          "output_type": "execute_result",
          "data": {
            "text/plain": [
              "0    6\n",
              "1    3\n",
              "2    4\n",
              "3    3\n",
              "dtype: int64"
            ]
          },
          "metadata": {},
          "execution_count": 4
        }
      ]
    },
    {
      "cell_type": "code",
      "source": [
        "# square of all the numbers in given range\n",
        "num = [n**2 for n in range(1,101)]\n",
        "print(num)"
      ],
      "metadata": {
        "id": "6Wzimtv-nM1F",
        "outputId": "da14ff1e-150b-47a3-e4da-0ec2b0f96456",
        "colab": {
          "base_uri": "https://localhost:8080/"
        }
      },
      "execution_count": 11,
      "outputs": [
        {
          "output_type": "stream",
          "name": "stdout",
          "text": [
            "[1, 4, 9, 16, 25, 36, 49, 64, 81, 100, 121, 144, 169, 196, 225, 256, 289, 324, 361, 400, 441, 484, 529, 576, 625, 676, 729, 784, 841, 900, 961, 1024, 1089, 1156, 1225, 1296, 1369, 1444, 1521, 1600, 1681, 1764, 1849, 1936, 2025, 2116, 2209, 2304, 2401, 2500, 2601, 2704, 2809, 2916, 3025, 3136, 3249, 3364, 3481, 3600, 3721, 3844, 3969, 4096, 4225, 4356, 4489, 4624, 4761, 4900, 5041, 5184, 5329, 5476, 5625, 5776, 5929, 6084, 6241, 6400, 6561, 6724, 6889, 7056, 7225, 7396, 7569, 7744, 7921, 8100, 8281, 8464, 8649, 8836, 9025, 9216, 9409, 9604, 9801, 10000]\n"
          ]
        }
      ]
    },
    {
      "cell_type": "code",
      "source": [],
      "metadata": {
        "id": "2Nz5UDSvoYcN"
      },
      "execution_count": null,
      "outputs": []
    }
  ]
}